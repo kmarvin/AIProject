{
 "cells": [
  {
   "cell_type": "code",
   "execution_count": 44,
   "metadata": {
    "collapsed": true
   },
   "outputs": [],
   "source": [
    "#-*- encoding: iso-8859-15 -*-\n",
    "import numpy as np\n",
    "from easydict import EasyDict as edict\n",
    "\n",
    "import torch\n",
    "from torch.utils.data import Dataset, DataLoader\n",
    "from torch.autograd import Variable\n",
    "import torch.autograd as autograd\n",
    "import torch.nn as nn\n",
    "import torch.nn.functional as F\n",
    "import torch.optim as optim\n",
    "import itertools\n",
    "from matplotlib import pyplot as plt\n",
    "\n",
    "import heapq\n",
    "\n",
    "# Import other python files\n"
   ]
  },
  {
   "cell_type": "markdown",
   "metadata": {},
   "source": [
    "#### Configuration / parameters to set"
   ]
  },
  {
   "cell_type": "code",
   "execution_count": 2,
   "metadata": {
    "collapsed": true
   },
   "outputs": [],
   "source": [
    "def set_config(config_path = \"config.txt\", args = dict()):\n",
    "    with open(config_path) as source:\n",
    "        for line in source:\n",
    "            line = line.strip()\n",
    "            argLong, valueLong = line.split('=')\n",
    "            arg = argLong.strip()\n",
    "            value = valueLong.strip()\n",
    "            if value == 'True':\n",
    "                value = True\n",
    "            elif value == 'False':\n",
    "                value = False\n",
    "            elif '.' in value:\n",
    "                value = float(value)\n",
    "            else:\n",
    "                value = int(value)\n",
    "            args[arg] = value\n",
    "    return edict(args)"
   ]
  },
  {
   "cell_type": "code",
   "execution_count": 3,
   "metadata": {
    "collapsed": false
   },
   "outputs": [
    {
     "name": "stdout",
     "output_type": "stream",
     "text": [
      "{'seq_len': 30, 'offset': 1, 'cuda': False, 'batch_size': 4, 'num_layers': 1, 'hidden_size': 64, 'lr': 0.1, 'clip': 1}\n"
     ]
    }
   ],
   "source": [
    "config_path = 'config.txt'\n",
    "args = {}\n",
    "args = set_config(config_path, args)\n",
    "print(args)\n",
    "#args.batch_size = 9"
   ]
  },
  {
   "cell_type": "markdown",
   "metadata": {},
   "source": [
    "### Data Processing functions and classes"
   ]
  },
  {
   "cell_type": "code",
   "execution_count": 4,
   "metadata": {
    "collapsed": true
   },
   "outputs": [],
   "source": [
    "def prepare_text(textsource):\n",
    "    text = ''\n",
    "    with open(textsource, encoding=\"utf8\") as txtsource:\n",
    "        for line in txtsource:\n",
    "            line = line.strip().lower()\n",
    "            line = line.replace(',', '').replace('.', '')\n",
    "            line = line.replace('»', '').replace('«', '')\n",
    "            line = line.replace('\"', '')\n",
    "            line = line.replace(u'\\ufeff', '')\n",
    "            text += ' ' + line\n",
    "    text = text[:32042] #### nachher wieder rauslöschen!!!\n",
    "    return text\n",
    "# Chevrons müssen noch weg"
   ]
  },
  {
   "cell_type": "code",
   "execution_count": 8,
   "metadata": {
    "collapsed": true
   },
   "outputs": [],
   "source": [
    "def prepare_data(text, seq_len, offset):\n",
    "    # Get all the unique characters appearing in the text \n",
    "    chars = sorted(list(set(text)))\n",
    "    char_idx = dict((c, i) for i, c in enumerate(chars))\n",
    "    print('char_indices_map: ' + str(char_idx))\n",
    "    print('len(char_indices_map): ' + str(len(char_idx)))\n",
    "    idx_char = dict((i, c) for i, c in enumerate(chars)) #### das brauchen wir später!!!\n",
    "    no_classes = len(chars) # the nr. of unique characters corresponds to the nr. of classes\n",
    "    \n",
    "    # count 'w' occurences, which is by far the least frequent with 1.6%\n",
    "    wcount = 0\n",
    "    for i in range(0, len(text) - seq_len, offset):\n",
    "        if text[i + seq_len] == 'w':\n",
    "            wcount += 1\n",
    "    \n",
    "    print('w-occurences: ' + str(wcount))\n",
    "            \n",
    "    # define counts and dict\n",
    "    counts_dict = {' ': 0, '-': 1, '?': 2, 'a': 3, 'b': 4, 'c': 5, 'd': 6, 'e': 7, 'f': 8, 'g': 9, 'h':10, 'i': 11, 'j': 12, 'k': 13, 'l': 14, 'm': 15, 'n': 16, 'o': 17, 'p': 18, 'q': 19, 'r': 20, 's': 21, 't': 22, 'u': 23, 'v': 24, 'w': 25, 'x': 26, 'z': 27, 'ß': 28, 'ä': 29, 'ö': 30, 'ü': 31, '–': 32, '…': 33, '‹': 34, '›': 35}\n",
    "    print('counts_dict: ' + str(counts_dict))\n",
    "    counts = [0]*len(counts_dict)\n",
    "    # Define training samples by splitting the text\n",
    "    sentences = []\n",
    "    next_chars = []\n",
    "    for i in range(0, len(text) - seq_len, offset):\n",
    "        if text[i + seq_len] == ' ':\n",
    "            continue\n",
    "        else:#if counts[counts_dict[text[i + seq_len]]] <= wcount:\n",
    "            sentences.append(text[i: i + seq_len])\n",
    "            next_chars.append(text[i + seq_len])\n",
    "            #counts[counts_dict[text[i + seq_len]]] += 1\n",
    "\n",
    "    #print('sentences', sentences)    \n",
    "    #print('next_chars', next_chars)\n",
    "    print('nr training samples', len(sentences))\n",
    "    \n",
    "    # Generate features and labels using one-hot encoding\n",
    "    X = np.zeros((len(sentences), seq_len, len(chars)), dtype='f')\n",
    "    y = np.zeros((len(sentences)))\n",
    "    gt = np.zeros((len(sentences), len(chars)), dtype = 'f')\n",
    "    \n",
    "    for i, sentence in enumerate(sentences):\n",
    "        for j, char in enumerate(sentence):\n",
    "            X[i, j, char_idx[char]] = 1\n",
    "        y[i] = char_idx[next_chars[i]]\n",
    "        gt[i, char_idx[next_chars[i]]] = 1\n",
    "        \n",
    "    #print('next_chars: ' + str(next_chars[0]))\n",
    "    #print('out: ' + str(X[0, :, :]))\n",
    "    #print('target: ' + str(y[0]))\n",
    "        \n",
    "    return X, y, gt, char_idx, idx_char, no_classes"
   ]
  },
  {
   "cell_type": "code",
   "execution_count": 8,
   "metadata": {},
   "outputs": [],
   "source": [
    "        "
   ]
  },
  {
   "cell_type": "code",
   "execution_count": 8,
   "metadata": {
    "collapsed": true
   },
   "outputs": [],
   "source": [
    "class TextDataset(Dataset):\n",
    "    ''' A text dataset class which implements the abstract class torch.utils.data.Dataset. '''\n",
    "    def __init__(self, text, seq_len, offset):\n",
    "        self.data, self.target, self.gt, self.char_idx, self.idx_char, self.no_classes = prepare_data(text, seq_len, offset)\n",
    "        \n",
    "    def __getitem__(self, index):\n",
    "        ''' Get the data for one training sample (by index) '''\n",
    "        return self.data[index,:,:], self.target[index] \n",
    "    \n",
    "    def __len__(self):\n",
    "        ''' Get the number of training samples '''\n",
    "        return self.data.shape[0]"
   ]
  },
  {
   "cell_type": "markdown",
   "metadata": {},
   "source": [
    "### LSTM functions and classes"
   ]
  },
  {
   "cell_type": "code",
   "execution_count": 9,
   "metadata": {
    "collapsed": false
   },
   "outputs": [],
   "source": [
    "class LSTM_RNN(nn.Module):\n",
    "    \n",
    "    def __init__(self, no_classes):\n",
    "        super(LSTM_RNN, self).__init__()\n",
    "        \n",
    "        self.lstm = nn.LSTM(input_size = no_classes, hidden_size = args.hidden_size, num_layers = args.num_layers)\n",
    "        self.linear = nn.Linear(in_features = args.hidden_size, out_features = no_classes)\n",
    "        self.softmax = nn.Softmax(dim=1)\n",
    "        \n",
    "        nn.init.normal( self.linear.weight, 0, 0.075)\n",
    "        nn.init.normal(self.linear.bias, 0, 0.075)\n",
    "        nn.init.xavier_normal(self.lstm.weight_hh_l0)\n",
    "        nn.init.xavier_normal(self.lstm.weight_ih_l0)\n",
    "        #nn.init.constant(self.lstm.bias, 0.0)\n",
    "\n",
    "        \n",
    "        # LSTM needs hidden variable which is initialized in self.init_hidden(self)\n",
    "        self.hidden = self.init_hidden()\n",
    "        \n",
    "        # for m in self.modules():\n",
    "        #     if isinstance(m, nn.Linear):\n",
    "        #         m.weight.data.normal_(0, 0.075*0.075)\n",
    "        #         m.bias.data.normal_(0, 0.075*0.075)\n",
    "                \n",
    "    \n",
    "    def init_hidden(self):\n",
    "        h0 = Variable(torch.zeros(args.num_layers, args.batch_size, args.hidden_size))\n",
    "        c0 = Variable(torch.zeros(args.num_layers, args.batch_size, args.hidden_size))\n",
    "        return (h0,c0)#Variable(torch.zeros((args.num_layers, args.batch_size, args.hidden_size)))\n",
    "    \n",
    "    def forward(self, x, hidden):\n",
    "        #x = x.type(torch.DoubleTensor)\n",
    "        #print(x)\n",
    "        lstm_out, hidden = self.lstm(x, hidden) # (h0, c0 are set to default values)\n",
    "        #print(lstm_out)\n",
    "        #print(\"LSTM_OUT:\")\n",
    "        #print(lstm_out)\n",
    "        #lstm_out = lstm_out.view(-1, lstm_out.size(2))\n",
    "        #print(\"----------------\")\n",
    "        #print(lstm_out)\n",
    "        linear_out = self.linear(lstm_out[-1])\n",
    "        #print(\"Linear_OUT:\")\n",
    "        #print(linear_out)\n",
    "        #res = self.softmax(linear_out) # use only the output of the last layer of lstm\n",
    "        return linear_out, hidden"
   ]
  },
  {
   "cell_type": "code",
   "execution_count": 10,
   "metadata": {
    "collapsed": true
   },
   "outputs": [],
   "source": [
    "# Training loop (one epoch)\n",
    "def train(model, epoch):\n",
    "    model.train()\n",
    "    criterion = nn.CrossEntropyLoss() # use the cross-entropy loss\n",
    "    total_loss = 0.0 # compute total loss over one epoch\n",
    "\n",
    "    for batch_idx, (data, target) in enumerate(train_loader):\n",
    "        #print(data)\n",
    "        data = data.view(data.size(1), data.size(0), data.size(2))\n",
    "        if args.cuda:\n",
    "            data, target = data.cuda(), target.cuda()\n",
    "        data, target = Variable(data), Variable(target)\n",
    "        \n",
    "        hidden = model.init_hidden()\n",
    "        optimizer.zero_grad()\n",
    "        #print(\"data:\")\n",
    "        #print(data[0])\n",
    "        output, hidden = model(data, hidden)\n",
    "        #print(\"output:\")\n",
    "        #print(output[0])\n",
    "        #print(\"target:\")\n",
    "        #print(target)\n",
    "        loss = criterion(output, target.type(torch.LongTensor)) # check how far away the output is from the original data\n",
    "        #print(\"loss:\")\n",
    "        #print(loss)\n",
    "        loss.backward()#retain_graph=True)\n",
    "        \n",
    "        #torch.nn.utils.clip_grad_norm(model.parameters(), args.clip)\n",
    "        optimizer.step()\n",
    "\n",
    "        total_loss += loss.data[0]\n",
    "        #print(total_loss)\n",
    "\n",
    "\n",
    "    relative_loss = total_loss/float(len(train_loader))\n",
    "    print('Mean loss over epoch %s: %s' %(epoch, relative_loss))#loss.data[0]))\n",
    "    return relative_loss # return the relative loss for later analysis\n",
    "            "
   ]
  },
  {
   "cell_type": "code",
   "execution_count": 11,
   "metadata": {
    "collapsed": true
   },
   "outputs": [],
   "source": [
    "# Prediction loop for ONE testdata tensor\n",
    "def rnn_predict(model, testdata):\n",
    "    ''' Note: testdata have to be submitted as a tensor'''\n",
    "    testdata = torch.from_numpy(testdata)\n",
    "    print(\"testdata:\")\n",
    "    print(testdata)\n",
    "    model.eval()\n",
    "    testdata = testdata.view(testdata.size(0), -1)\n",
    "    if args.cuda:\n",
    "        testdata = testdata.cuda()\n",
    "    testdata = testdata.type(torch.FloatTensor)\n",
    "    testdata = Variable(testdata)\n",
    "    hidden = model.init_hidden()\n",
    "    prediction = model(testdata, hidden)\n",
    "    return prediction"
   ]
  },
  {
   "cell_type": "markdown",
   "metadata": {},
   "source": [
    "### Other functions"
   ]
  },
  {
   "cell_type": "code",
   "execution_count": 12,
   "metadata": {
    "collapsed": true
   },
   "outputs": [],
   "source": [
    "''' Function that returns the largest factor of number that isn't the number itself '''\n",
    "def lfactor(num):\n",
    "    for i in range(num - 1, 0, -1): # go backwards from num - 1 to 1\n",
    "        if num % i == 0:            # if a number divides evenly\n",
    "            return i                # it's the largest factor"
   ]
  },
  {
   "cell_type": "markdown",
   "metadata": {},
   "source": [
    "### Marvins test functions"
   ]
  },
  {
   "cell_type": "code",
   "execution_count": 13,
   "metadata": {
    "collapsed": true
   },
   "outputs": [],
   "source": [
    "# die funktion brauchen wir vllt gar nicht, je nachdem ob wir den test loader verwenden oder wie wir das auch immer machen\n",
    "def prepare_input(text):\n",
    "    X = np.zeros((args.seq_len, no_classes))  # array with one entry which have 20 lines, each 11 entrys\n",
    "    for t, char in enumerate(text):\n",
    "        X[t, char_idx[char]] = 1.\n",
    "    return X\n",
    "\n",
    "def sample(preds, top_n=1):\n",
    "    print(\"test\")\n",
    "    preds = preds[-1].data.numpy()\n",
    "    print(preds)\n",
    "    print(preds.shape)\n",
    "    #preds = np.log(preds)\n",
    "    exp_preds = np.exp(preds)\n",
    "    preds = exp_preds / np.sum(exp_preds)\n",
    "\n",
    "    return heapq.nlargest(len(preds), zip(preds, itertools.count()))\n",
    "\n",
    "\n",
    "def predict_completion(model, text, topn=1):\n",
    "    original_text = text\n",
    "    generated = text\n",
    "    completion = ''\n",
    "    next_char = ''\n",
    "    max_iterations = 1\n",
    "    i = 0\n",
    "    while next_char != ' ' and i < max_iterations:\n",
    "        i += 1\n",
    "        x = prepare_input(text)\n",
    "        preds = rnn_predict(model, x)\n",
    "        next_chars = sample(preds[0], top_n=topn)\n",
    "        print('id, char: ' + str(next_chars[0][1]) + ', ' + str(idx_char[next_chars[0][1]]))\n",
    "        text = text[1:] + idx_char[next_chars[0][1]]\n",
    "        completion += idx_char[next_chars[0][1]]\n",
    "\n",
    "    return completion\n",
    "\n",
    "\n",
    "def predict_completions(model, text, n=3):\n",
    "    x = prepare_input(text)\n",
    "    preds = model.rnn_predict(x, verbose=0)[0]\n",
    "    next_indices = sample(preds, n)\n",
    "    return [idx_char[idx] + predict_completion(text[1:] + idx_char[idx]) for idx in next_indices]"
   ]
  },
  {
   "cell_type": "markdown",
   "metadata": {},
   "source": [
    "### Main code"
   ]
  },
  {
   "cell_type": "code",
   "execution_count": 37,
   "metadata": {
    "collapsed": true
   },
   "outputs": [
    {
     "name": "stdout",
     "output_type": "stream",
     "text": [
      "{'seq_len': 30, 'offset': 1, 'cuda': False, 'batch_size': 8, 'num_layers': 1, 'hidden_size': 128, 'lr': 0.1, 'clip': 1}\nchar_indices_map: {' ': 0, '!': 1, '*': 2, '-': 3, '1': 4, '3': 5, '7': 6, '8': 7, '9': 8, ':': 9, ';': 10, '?': 11, 'a': 12, 'b': 13, 'c': 14, 'd': 15, 'e': 16, 'f': 17, 'g': 18, 'h': 19, 'i': 20, 'j': 21, 'k': 22, 'l': 23, 'm': 24, 'n': 25, 'o': 26, 'p': 27, 'q': 28, 'r': 29, 's': 30, 't': 31, 'u': 32, 'v': 33, 'w': 34, 'x': 35, 'y': 36, 'z': 37, 'ß': 38, 'ä': 39, 'ó': 40, 'ö': 41, 'ü': 42, 'ā': 43, '–': 44, '‘': 45, '’': 46, '…': 47, '‹': 48, '›': 49}\nlen(char_indices_map): 50\nw-occurences: 446\ncounts_dict: {' ': 0, '-': 1, '?': 2, 'a': 3, 'b': 4, 'c': 5, 'd': 6, 'e': 7, 'f': 8, 'g': 9, 'h': 10, 'i': 11, 'j': 12, 'k': 13, 'l': 14, 'm': 15, 'n': 16, 'o': 17, 'p': 18, 'q': 19, 'r': 20, 's': 21, 't': 22, 'u': 23, 'v': 24, 'w': 25, 'x': 26, 'z': 27, 'ß': 28, 'ä': 29, 'ö': 30, 'ü': 31, '–': 32, '…': 33, '‹': 34, '›': 35}\nnr training samples 27136\n"
     ]
    },
    {
     "name": "stdout",
     "output_type": "stream",
     "text": [
      "char_indices_map: {' ': 0, '!': 1, '*': 2, '-': 3, '1': 4, '3': 5, '7': 6, '8': 7, '9': 8, ':': 9, ';': 10, '?': 11, 'a': 12, 'b': 13, 'c': 14, 'd': 15, 'e': 16, 'f': 17, 'g': 18, 'h': 19, 'i': 20, 'j': 21, 'k': 22, 'l': 23, 'm': 24, 'n': 25, 'o': 26, 'p': 27, 'q': 28, 'r': 29, 's': 30, 't': 31, 'u': 32, 'v': 33, 'w': 34, 'x': 35, 'y': 36, 'z': 37, 'ß': 38, 'ä': 39, 'ó': 40, 'ö': 41, 'ü': 42, 'ā': 43, '–': 44, '‘': 45, '’': 46, '…': 47, '‹': 48, '›': 49}\nlen(char_indices_map): 50\nw-occurences: 446\ncounts_dict: {' ': 0, '-': 1, '?': 2, 'a': 3, 'b': 4, 'c': 5, 'd': 6, 'e': 7, 'f': 8, 'g': 9, 'h': 10, 'i': 11, 'j': 12, 'k': 13, 'l': 14, 'm': 15, 'n': 16, 'o': 17, 'p': 18, 'q': 19, 'r': 20, 's': 21, 't': 22, 'u': 23, 'v': 24, 'w': 25, 'x': 26, 'z': 27, 'ß': 28, 'ä': 29, 'ö': 30, 'ü': 31, '–': 32, '…': 33, '‹': 34, '›': 35}\n"
     ]
    },
    {
     "name": "stdout",
     "output_type": "stream",
     "text": [
      "nr training samples 27136\n"
     ]
    },
    {
     "name": "stdout",
     "output_type": "stream",
     "text": [
      "8\n"
     ]
    }
   ],
   "source": [
    "config_path = 'config.txt'\n",
    "args = {}\n",
    "args = set_config(config_path, args)\n",
    "print(args)\n",
    "\n",
    "# Generate train and test loader from our data\n",
    "train_text = prepare_text('./Brown_Leseprobe.txt')\n",
    "train_set = TextDataset(train_text, args.seq_len, args.offset)\n",
    "#args.batch_size = lfactor(len(train_set))\n",
    "train_loader = DataLoader(train_set, batch_size = args.batch_size, shuffle=False)\n",
    "gt = train_set.gt\n",
    "\n",
    "def dim(a):\n",
    "    if not type(a) == list:\n",
    "        return []\n",
    "    return [len(a)] + dim(a[0])\n",
    "\n",
    "# for i, val in enumerate(train_loader):\n",
    "#     print(val)\n",
    "#     if i==1:\n",
    "#         break\n",
    "\n",
    "test_text = prepare_text('./Brown_Leseprobe_test.txt')\n",
    "test_set = TextDataset(test_text, args.seq_len, args.offset)\n",
    "test_loader = DataLoader(test_set, batch_size = args.batch_size, shuffle=False)\n",
    "\n",
    "# set further parameters\n",
    "char_idx = train_set.char_idx\n",
    "idx_char = train_set.idx_char\n",
    "no_classes = train_set.no_classes\n",
    "input_shape = (args.seq_len, no_classes) # seq_len * nr. of unique characters \n",
    "\n",
    "# get len of data to determine the possible batch_size\n",
    "print(args.batch_size)\n"
   ]
  },
  {
   "cell_type": "code",
   "execution_count": 40,
   "metadata": {
    "collapsed": false
   },
   "outputs": [
    {
     "name": "stdout",
     "output_type": "stream",
     "text": [
      "(30, 50)\nLSTM_RNN(\n  (lstm): LSTM(50, 128)\n  (linear): Linear(in_features=128, out_features=50)\n  (softmax): Softmax()\n)\n"
     ]
    }
   ],
   "source": [
    "# Generate model\n",
    "print(input_shape)\n",
    "rnn = LSTM_RNN(no_classes)\n",
    "if args.cuda:\n",
    "    rnn.cuda()\n",
    "print(rnn)"
   ]
  },
  {
   "cell_type": "code",
   "execution_count": 41,
   "metadata": {
    "collapsed": false
   },
   "outputs": [],
   "source": [
    "# Initialize the optimization algorithm\n",
    "optimizer = optim.Adam(rnn.parameters(), lr=0.005)"
   ]
  },
  {
   "cell_type": "code",
   "execution_count": 42,
   "metadata": {
    "collapsed": true,
    "scrolled": true
   },
   "outputs": [
    {
     "name": "stdout",
     "output_type": "stream",
     "text": [
      "8\n"
     ]
    },
    {
     "name": "stdout",
     "output_type": "stream",
     "text": [
      "Mean loss over epoch 0: 2.2567041990927086\n"
     ]
    },
    {
     "name": "stdout",
     "output_type": "stream",
     "text": [
      "Mean loss over epoch 1: 2.1232144277683407\n"
     ]
    },
    {
     "name": "stdout",
     "output_type": "stream",
     "text": [
      "Mean loss over epoch 2: 2.081141548055523\n"
     ]
    },
    {
     "name": "stdout",
     "output_type": "stream",
     "text": [
      "Mean loss over epoch 3: 2.0249211948610983\n"
     ]
    },
    {
     "name": "stdout",
     "output_type": "stream",
     "text": [
      "Mean loss over epoch 4: 1.9626781576717238\n"
     ]
    },
    {
     "name": "stdout",
     "output_type": "stream",
     "text": [
      "Mean loss over epoch 5: 1.9256090896537985\n"
     ]
    },
    {
     "name": "stdout",
     "output_type": "stream",
     "text": [
      "Mean loss over epoch 6: 1.910148560280367\n"
     ]
    },
    {
     "name": "stdout",
     "output_type": "stream",
     "text": [
      "Mean loss over epoch 7: 1.8813079361856546\n"
     ]
    },
    {
     "name": "stdout",
     "output_type": "stream",
     "text": [
      "Mean loss over epoch 8: 1.8728767751698505\n"
     ]
    },
    {
     "name": "stdout",
     "output_type": "stream",
     "text": [
      "Mean loss over epoch 9: 1.851432406519241\n"
     ]
    },
    {
     "name": "stdout",
     "output_type": "stream",
     "text": [
      "Mean loss over epoch 10: 1.8446650492853292\n"
     ]
    },
    {
     "name": "stdout",
     "output_type": "stream",
     "text": [
      "Mean loss over epoch 11: 1.8298673171479747\n"
     ]
    },
    {
     "name": "stdout",
     "output_type": "stream",
     "text": [
      "Mean loss over epoch 12: 1.8188602111987628\n"
     ]
    },
    {
     "name": "stdout",
     "output_type": "stream",
     "text": [
      "Mean loss over epoch 13: 1.8058642133156646\n"
     ]
    },
    {
     "name": "stdout",
     "output_type": "stream",
     "text": [
      "Mean loss over epoch 14: 1.7883281370203168\n"
     ]
    },
    {
     "ename": "KeyboardInterrupt",
     "evalue": "",
     "traceback": [
      "\u001b[1;31m---------------------------------------------------------------------------\u001b[0m",
      "\u001b[1;31mKeyboardInterrupt\u001b[0m                         Traceback (most recent call last)",
      "\u001b[1;32m<ipython-input-42-31197a6de7af>\u001b[0m in \u001b[0;36m<module>\u001b[1;34m()\u001b[0m\n\u001b[0;32m     10\u001b[0m \u001b[0mprint\u001b[0m\u001b[1;33m(\u001b[0m\u001b[0margs\u001b[0m\u001b[1;33m.\u001b[0m\u001b[0mbatch_size\u001b[0m\u001b[1;33m)\u001b[0m\u001b[1;33m\u001b[0m\u001b[0m\n\u001b[0;32m     11\u001b[0m \u001b[1;32mfor\u001b[0m \u001b[0mepoch\u001b[0m \u001b[1;32min\u001b[0m \u001b[0mrange\u001b[0m\u001b[1;33m(\u001b[0m\u001b[1;36m100\u001b[0m\u001b[1;33m)\u001b[0m\u001b[1;33m:\u001b[0m\u001b[1;33m\u001b[0m\u001b[0m\n\u001b[1;32m---> 12\u001b[1;33m     \u001b[0mloss_train\u001b[0m \u001b[1;33m=\u001b[0m \u001b[0mtrain\u001b[0m\u001b[1;33m(\u001b[0m\u001b[0mrnn\u001b[0m\u001b[1;33m,\u001b[0m \u001b[0mepoch\u001b[0m\u001b[1;33m)\u001b[0m\u001b[1;33m\u001b[0m\u001b[0m\n\u001b[0m\u001b[0;32m     13\u001b[0m     \u001b[0mhistory\u001b[0m\u001b[1;33m[\u001b[0m\u001b[1;34m'loss_train'\u001b[0m\u001b[1;33m]\u001b[0m\u001b[1;33m.\u001b[0m\u001b[0mappend\u001b[0m\u001b[1;33m(\u001b[0m\u001b[0mloss_train\u001b[0m\u001b[1;33m)\u001b[0m\u001b[1;33m\u001b[0m\u001b[0m\n",
      "\u001b[1;32m<ipython-input-10-5bef9494e77a>\u001b[0m in \u001b[0;36mtrain\u001b[1;34m(model, epoch)\u001b[0m\n\u001b[0;32m     24\u001b[0m         \u001b[1;31m#print(\"loss:\")\u001b[0m\u001b[1;33m\u001b[0m\u001b[1;33m\u001b[0m\u001b[0m\n\u001b[0;32m     25\u001b[0m         \u001b[1;31m#print(loss)\u001b[0m\u001b[1;33m\u001b[0m\u001b[1;33m\u001b[0m\u001b[0m\n\u001b[1;32m---> 26\u001b[1;33m         \u001b[0mloss\u001b[0m\u001b[1;33m.\u001b[0m\u001b[0mbackward\u001b[0m\u001b[1;33m(\u001b[0m\u001b[1;33m)\u001b[0m\u001b[1;31m#retain_graph=True)\u001b[0m\u001b[1;33m\u001b[0m\u001b[0m\n\u001b[0m\u001b[0;32m     27\u001b[0m \u001b[1;33m\u001b[0m\u001b[0m\n\u001b[0;32m     28\u001b[0m         \u001b[1;31m#torch.nn.utils.clip_grad_norm(model.parameters(), args.clip)\u001b[0m\u001b[1;33m\u001b[0m\u001b[1;33m\u001b[0m\u001b[0m\n",
      "\u001b[1;32mC:\\WinPython\\miniconda2\\lib\\site-packages\\torch\\autograd\\variable.py\u001b[0m in \u001b[0;36mbackward\u001b[1;34m(self, gradient, retain_graph, create_graph, retain_variables)\u001b[0m\n\u001b[0;32m    165\u001b[0m                 \u001b[0mVariable\u001b[0m\u001b[1;33m.\u001b[0m\u001b[1;33m\u001b[0m\u001b[0m\n\u001b[0;32m    166\u001b[0m         \"\"\"\n\u001b[1;32m--> 167\u001b[1;33m         \u001b[0mtorch\u001b[0m\u001b[1;33m.\u001b[0m\u001b[0mautograd\u001b[0m\u001b[1;33m.\u001b[0m\u001b[0mbackward\u001b[0m\u001b[1;33m(\u001b[0m\u001b[0mself\u001b[0m\u001b[1;33m,\u001b[0m \u001b[0mgradient\u001b[0m\u001b[1;33m,\u001b[0m \u001b[0mretain_graph\u001b[0m\u001b[1;33m,\u001b[0m \u001b[0mcreate_graph\u001b[0m\u001b[1;33m,\u001b[0m \u001b[0mretain_variables\u001b[0m\u001b[1;33m)\u001b[0m\u001b[1;33m\u001b[0m\u001b[0m\n\u001b[0m\u001b[0;32m    168\u001b[0m \u001b[1;33m\u001b[0m\u001b[0m\n\u001b[0;32m    169\u001b[0m     \u001b[1;32mdef\u001b[0m \u001b[0mregister_hook\u001b[0m\u001b[1;33m(\u001b[0m\u001b[0mself\u001b[0m\u001b[1;33m,\u001b[0m \u001b[0mhook\u001b[0m\u001b[1;33m)\u001b[0m\u001b[1;33m:\u001b[0m\u001b[1;33m\u001b[0m\u001b[0m\n",
      "\u001b[1;32mC:\\WinPython\\miniconda2\\lib\\site-packages\\torch\\autograd\\__init__.py\u001b[0m in \u001b[0;36mbackward\u001b[1;34m(variables, grad_variables, retain_graph, create_graph, retain_variables)\u001b[0m\n\u001b[0;32m     97\u001b[0m \u001b[1;33m\u001b[0m\u001b[0m\n\u001b[0;32m     98\u001b[0m     Variable._execution_engine.run_backward(\n\u001b[1;32m---> 99\u001b[1;33m         variables, grad_variables, retain_graph)\n\u001b[0m\u001b[0;32m    100\u001b[0m \u001b[1;33m\u001b[0m\u001b[0m\n\u001b[0;32m    101\u001b[0m \u001b[1;33m\u001b[0m\u001b[0m\n",
      "\u001b[1;31mKeyboardInterrupt\u001b[0m: "
     ],
     "output_type": "error"
    }
   ],
   "source": [
    "\n",
    "# Run training and store history\n",
    "history = dict()\n",
    "history['loss_train'] = []\n",
    "history['loss_test'] = []\n",
    "\n",
    "# wie wir die accuracy machen, weiß ich noch nicht...\n",
    "#history['acc_train'] = []\n",
    "#history['acc_test'] = []\n",
    "print(args.batch_size)\n",
    "for epoch in range(100):\n",
    "    loss_train = train(rnn, epoch)        \n",
    "    history['loss_train'].append(loss_train)      "
   ]
  },
  {
   "cell_type": "code",
   "execution_count": null,
   "metadata": {
    "collapsed": false
   },
   "outputs": [
    {
     "name": "stderr",
     "output_type": "stream",
     "text": [
      "C:\\WinPython\\miniconda2\\lib\\site-packages\\torch\\serialization.py:158: UserWarning: Couldn't retrieve source code for container of type LSTM_RNN. It won't be checked for correctness upon loading.\n  \"type \" + obj.__name__ + \". It won't be checked \"\n"
     ]
    },
    {
     "data": {
      "image/png": "[encoded data removed]",
      "text/plain": [
       "<matplotlib.figure.Figure at 0x950cf98>"
      ]
     },
     "metadata": {},
     "output_type": "display_data"
    }
   ],
   "source": [
    "torch.save(rnn, 'rnn_bsize8-l1.8.pt')\n",
    "\n",
    "def plotLineData(header, yLabel, firstData, firstLabel, firstColor='b', xLabel='epoch'):\n",
    "    plt.plot(firstData, color=firstColor)\n",
    "    plt.title(header)\n",
    "    plt.ylabel(yLabel)\n",
    "    plt.xlabel(xLabel)\n",
    "    plt.legend([firstLabel], loc='upper left')\n",
    "    plt.savefig(\"rnn_bsize8-l1.8.png\")\n",
    "    plt.show()\n",
    "plotLineData(\"Loss\", \"loss\", history['loss_train'], \"loss\")\n",
    "# Try a prediction\n",
    "\n",
    "#testdata = Variable(torch.from_numpy(test_set.data[0])) # get first element from the test set\n",
    "#truth = test_set.target[0]\n",
    "#print(testdata,truth)\n",
    "\n",
    "#prediction = rnn(testdata)\n",
    "## dann muss man hier noch auf die sizes achten, ach verdammt\n",
    "#prepare_input(\"This is an example of input for our LSTM\".lower(), train_set.data, char_idx)\n",
    "#print(predict_completions(seq, 5))"
   ]
  },
  {
   "cell_type": "code",
   "execution_count": 493,
   "metadata": {
    "collapsed": false
   },
   "outputs": [
    {
     "name": "stdout",
     "output_type": "stream",
     "text": [
      "testdata:\n\n\nColumns 0 to 12 \n    0     0     0     0     0     0     0     0     0     0     0     0     0\n    0     1     0     0     0     0     0     0     0     0     0     0     0\n    0     0     0     0     0     0     0     0     1     0     0     0     0\n    0     0     0     0     0     0     0     0     0     0     0     0     0\n    0     0     0     0     0     0     0     0     0     0     0     0     0\n    0     0     0     0     0     0     0     0     0     0     0     0     0\n    0     0     0     0     0     0     0     0     0     0     0     0     0\n    0     0     0     0     0     0     0     0     0     0     0     0     0\n    0     0     0     0     0     0     0     0     0     0     0     0     0\n    0     0     0     0     0     0     0     0     0     0     0     0     0\n    0     0     0     0     0     0     0     0     0     0     0     0     0\n    0     0     0     0     0     0     0     0     0     0     0     0     0\n    0     0     0     0     0     0     0     0     0     0     0     0     0\n    0     0     0     0     0     0     0     0     0     0     0     0     0\n    0     0     0     0     0     0     0     0     0     0     0     0     0\n    0     0     0     0     0     0     0     0     0     0     0     0     0\n    0     0     0     0     0     0     0     0     0     0     0     0     0\n    0     0     0     0     0     0     0     0     0     0     0     0     0\n    0     0     0     0     0     0     0     0     0     0     0     0     0\n    0     0     0     0     0     0     0     0     0     0     0     0     0\n    0     0     0     0     0     0     0     0     0     0     0     0     0\n    0     0     0     0     0     0     0     0     0     0     0     0     0\n    0     0     0     0     0     0     0     0     0     0     0     0     0\n    0     0     0     0     0     0     0     0     0     0     0     0     0\n    0     0     0     0     0     0     0     0     0     0     0     0     0\n    0     0     0     0     0     0     0     0     0     0     0     0     0\n    0     0     0     0     0     0     0     0     0     0     0     0     0\n    0     0     0     0     0     0     0     0     0     0     0     0     0\n    0     0     0     0     0     0     0     0     0     0     0     0     0\n    0     0     0     0     0     0     0     0     0     0     0     0     0\n\nColumns 13 to 25 \n    0     0     0     0     0     0     0     0     0     0     0     1     0\n    0     0     0     0     0     0     0     0     0     0     0     0     0\n    0     0     0     0     0     0     0     0     0     0     0     0     0\n    0     1     0     0     0     0     0     0     0     0     0     0     0\n    0     0     0     0     1     0     0     0     0     0     0     0     0\n    0     0     0     0     0     0     0     0     0     0     0     0     0\n    0     0     0     0     0     0     0     0     0     0     0     0     0\n    0     0     0     0     0     0     0     0     0     0     0     0     0\n    0     0     0     0     0     0     0     0     0     0     0     0     0\n    0     0     0     0     0     0     0     0     0     0     0     0     0\n    0     0     0     0     0     0     0     0     0     0     0     0     0\n    0     0     0     0     0     0     0     0     0     0     0     0     0\n    0     0     0     0     0     0     0     0     0     0     0     0     0\n    0     0     0     0     0     0     0     0     0     0     0     0     0\n    0     0     0     0     0     0     0     0     0     0     0     0     0\n    0     0     0     0     0     0     0     0     0     0     0     0     0\n    0     0     0     0     0     0     0     0     0     0     0     0     0\n    0     0     0     0     0     0     0     0     0     0     0     0     0\n    0     0     0     0     0     0     0     0     0     0     0     0     0\n    0     0     0     0     0     0     0     0     0     0     0     0     0\n    0     0     0     0     0     0     0     0     0     0     0     0     0\n    0     0     0     0     0     0     0     0     0     0     0     0     0\n    0     0     0     0     0     0     0     0     0     0     0     0     0\n    0     0     0     0     0     0     0     0     0     0     0     0     0\n    0     0     0     0     0     0     0     0     0     0     0     0     0\n    0     0     0     0     0     0     0     0     0     0     0     0     0\n    0     0     0     0     0     0     0     0     0     0     0     0     0\n    0     0     0     0     0     0     0     0     0     0     0     0     0\n    0     0     0     0     0     0     0     0     0     0     0     0     0\n    0     0     0     0     0     0     0     0     0     0     0     0     0\n\nColumns 26 to 29 \n    0     0     0     0\n    0     0     0     0\n    0     0     0     0\n    0     0     0     0\n    0     0     0     0\n    0     0     0     0\n    0     0     0     0\n    0     0     0     0\n    0     0     0     0\n    0     0     0     0\n    0     0     0     0\n    0     0     0     0\n    0     0     0     0\n    0     0     0     0\n    0     0     0     0\n    0     0     0     0\n    0     0     0     0\n    0     0     0     0\n    0     0     0     0\n    0     0     0     0\n    0     0     0     0\n    0     0     0     0\n    0     0     0     0\n    0     0     0     0\n    0     0     0     0\n    0     0     0     0\n    0     0     0     0\n    0     0     0     0\n    0     0     0     0\n    0     0     0     0\n[torch.DoubleTensor of size 30x30]\n\ntest\n[-3.9478848  -1.72938073 -1.11050284  5.12905836  1.17248046  2.56863356\n -2.6807816   0.73517573 -2.28837204 -1.62336731 -2.98757601  0.45317325\n -0.40955114 -5.2834115  -0.12507713  6.66555119 -2.76831269 -5.88685846\n  7.08317804  1.21529126  2.52841401 -1.24159241 -0.02872832 -7.92431545\n -5.38330173 -5.46932936 -0.67052966 -1.07361507  3.91070867 -4.85995293]\n(30,)\nid, char: 18, s\ntestdata:\n\n\nColumns 0 to 12 \n    1     0     0     0     0     0     0     0     0     0     0     0     0\n    0     0     0     0     0     0     0     0     0     0     0     0     0\n    0     0     0     0     0     0     0     0     0     0     0     0     0\n    0     0     0     0     0     0     0     0     1     0     0     0     0\n    0     0     0     0     0     0     0     0     0     0     0     0     0\n    0     0     0     0     0     0     0     0     0     0     0     0     0\n    0     0     0     0     0     0     0     0     0     0     0     0     0\n    0     0     0     0     0     0     0     0     0     0     0     0     0\n    0     0     0     0     0     0     0     0     0     0     0     0     0\n    0     0     0     0     0     0     0     0     0     0     0     0     0\n    0     0     0     0     0     0     0     0     0     0     0     0     0\n    0     0     0     0     0     0     0     0     0     0     0     0     0\n    0     0     0     0     0     0     0     0     0     0     0     0     0\n    0     0     0     0     0     0     0     0     0     0     0     0     0\n    0     0     0     0     0     0     0     0     0     0     0     0     0\n    0     0     0     0     0     0     0     0     0     0     0     0     0\n    0     0     0     0     0     0     0     0     0     0     0     0     0\n    0     0     0     0     0     0     0     0     0     0     0     0     0\n    0     0     0     0     0     0     0     0     0     0     0     0     0\n    0     0     0     0     0     0     0     0     0     0     0     0     0\n    0     0     0     0     0     0     0     0     0     0     0     0     0\n    0     0     0     0     0     0     0     0     0     0     0     0     0\n    0     0     0     0     0     0     0     0     0     0     0     0     0\n    0     0     0     0     0     0     0     0     0     0     0     0     0\n    0     0     0     0     0     0     0     0     0     0     0     0     0\n    0     0     0     0     0     0     0     0     0     0     0     0     0\n    0     0     0     0     0     0     0     0     0     0     0     0     0\n    0     0     0     0     0     0     0     0     0     0     0     0     0\n    0     0     0     0     0     0     0     0     0     0     0     0     0\n    0     0     0     0     0     0     0     0     0     0     0     0     0\n\nColumns 13 to 25 \n    0     0     0     0     0     0     0     0     0     0     0     0     0\n    0     0     0     0     0     0     0     0     0     1     0     0     0\n    0     0     0     0     0     0     0     0     0     0     0     0     0\n    0     0     0     0     0     0     0     0     0     0     0     0     0\n    0     0     0     0     1     0     0     0     0     0     0     0     0\n    0     0     0     0     0     0     0     0     0     0     0     0     0\n    0     0     0     0     0     0     0     0     0     0     0     0     0\n    0     0     0     0     0     0     0     0     0     0     0     0     0\n    0     0     0     0     0     0     0     0     0     0     0     0     0\n    0     0     0     0     0     0     0     0     0     0     0     0     0\n    0     0     0     0     0     0     0     0     0     0     0     0     0\n    0     0     0     0     0     0     0     0     0     0     0     0     0\n    0     0     0     0     0     0     0     0     0     0     0     0     0\n    0     0     0     0     0     0     0     0     0     0     0     0     0\n    0     0     0     0     0     0     0     0     0     0     0     0     0\n    0     0     0     0     0     0     0     0     0     0     0     0     0\n    0     0     0     0     0     0     0     0     0     0     0     0     0\n    0     0     0     0     0     0     0     0     0     0     0     0     0\n    0     0     0     0     0     0     0     0     0     0     0     0     0\n    0     0     0     0     0     0     0     0     0     0     0     0     0\n    0     0     0     0     0     0     0     0     0     0     0     0     0\n    0     0     0     0     0     0     0     0     0     0     0     0     0\n    0     0     0     0     0     0     0     0     0     0     0     0     0\n    0     0     0     0     0     0     0     0     0     0     0     0     0\n    0     0     0     0     0     0     0     0     0     0     0     0     0\n    0     0     0     0     0     0     0     0     0     0     0     0     0\n    0     0     0     0     0     0     0     0     0     0     0     0     0\n    0     0     0     0     0     0     0     0     0     0     0     0     0\n    0     0     0     0     0     0     0     0     0     0     0     0     0\n    0     0     0     0     0     0     0     0     0     0     0     0     0\n\nColumns 26 to 29 \n    0     0     0     0\n    0     0     0     0\n    1     0     0     0\n    0     0     0     0\n    0     0     0     0\n    0     0     0     0\n    0     0     0     0\n    0     0     0     0\n    0     0     0     0\n    0     0     0     0\n    0     0     0     0\n    0     0     0     0\n    0     0     0     0\n    0     0     0     0\n    0     0     0     0\n    0     0     0     0\n    0     0     0     0\n    0     0     0     0\n    0     0     0     0\n    0     0     0     0\n    0     0     0     0\n    0     0     0     0\n    0     0     0     0\n    0     0     0     0\n    0     0     0     0\n    0     0     0     0\n    0     0     0     0\n    0     0     0     0\n    0     0     0     0\n    0     0     0     0\n[torch.DoubleTensor of size 30x30]\n\n"
     ]
    },
    {
     "name": "stdout",
     "output_type": "stream",
     "text": [
      "test\n[-8.04064751  2.67749977 -6.63644934  3.28877997 -2.14485502  2.06122684\n  1.80935168 -4.66574812  1.05909824  2.55170774 -6.96058178 -3.50340962\n  3.721138   -6.09183693  1.15532458 -3.69657302 -1.50856829  2.23330736\n  4.27194929 -3.12490702  0.12552544 -9.28370094 -1.86604738 -5.33894253\n -5.39690399 -6.35762501 -3.18529677 -8.7940836   0.42415631 -8.59319305]\n(30,)\nid, char: 18, s\ntestdata:\n\n\nColumns 0 to 12 \n    0     0     0     0     0     0     0     0     0     0     0     0     0\n    0     0     0     0     0     0     0     0     0     0     0     0     0\n    0     0     0     0     0     0     0     0     1     0     0     0     0\n    0     0     0     0     0     0     0     0     0     0     0     0     0\n    0     1     0     0     0     0     0     0     0     0     0     0     0\n    0     0     0     0     0     0     0     0     0     0     0     0     0\n    0     0     0     0     0     0     0     0     0     0     0     0     0\n    0     0     0     0     0     0     0     0     0     0     0     0     0\n    0     0     0     0     0     0     0     0     0     0     0     0     0\n    0     0     0     0     0     0     0     0     0     0     0     0     0\n    0     0     0     0     0     0     0     0     0     0     0     0     0\n    0     0     0     0     0     0     0     0     0     0     0     0     0\n    0     0     0     0     0     0     0     0     0     0     0     0     0\n    0     0     0     0     0     0     0     0     0     0     0     0     0\n    0     0     0     0     0     0     0     0     0     0     0     0     0\n    0     0     0     0     0     0     0     0     0     0     0     0     0\n    0     0     0     0     0     0     0     0     0     0     0     0     0\n    0     0     0     0     0     0     0     0     0     0     0     0     0\n    0     0     0     0     0     0     0     0     0     0     0     0     0\n    0     0     0     0     0     0     0     0     0     0     0     0     0\n    0     0     0     0     0     0     0     0     0     0     0     0     0\n    0     0     0     0     0     0     0     0     0     0     0     0     0\n    0     0     0     0     0     0     0     0     0     0     0     0     0\n    0     0     0     0     0     0     0     0     0     0     0     0     0\n    0     0     0     0     0     0     0     0     0     0     0     0     0\n    0     0     0     0     0     0     0     0     0     0     0     0     0\n    0     0     0     0     0     0     0     0     0     0     0     0     0\n    0     0     0     0     0     0     0     0     0     0     0     0     0\n    0     0     0     0     0     0     0     0     0     0     0     0     0\n    0     0     0     0     0     0     0     0     0     0     0     0     0\n\nColumns 13 to 25 \n    1     0     0     0     0     0     0     0     0     0     0     0     0\n    0     0     0     0     0     0     0     0     0     0     0     0     0\n    0     0     0     0     0     0     0     0     0     0     0     0     0\n    0     0     0     0     0     1     0     0     0     0     0     0     0\n    0     0     0     0     0     0     0     0     0     0     0     0     0\n    0     0     0     0     0     0     0     0     0     0     0     0     0\n    0     0     0     0     0     0     0     0     0     0     0     0     0\n    0     0     0     0     0     0     0     0     0     0     0     0     0\n    0     0     0     0     0     0     0     0     0     0     0     0     0\n    0     0     0     0     0     0     0     0     0     0     0     0     0\n    0     0     0     0     0     0     0     0     0     0     0     0     0\n    0     0     0     0     0     0     0     0     0     0     0     0     0\n    0     0     0     0     0     0     0     0     0     0     0     0     0\n    0     0     0     0     0     0     0     0     0     0     0     0     0\n    0     0     0     0     0     0     0     0     0     0     0     0     0\n    0     0     0     0     0     0     0     0     0     0     0     0     0\n    0     0     0     0     0     0     0     0     0     0     0     0     0\n    0     0     0     0     0     0     0     0     0     0     0     0     0\n    0     0     0     0     0     0     0     0     0     0     0     0     0\n    0     0     0     0     0     0     0     0     0     0     0     0     0\n    0     0     0     0     0     0     0     0     0     0     0     0     0\n    0     0     0     0     0     0     0     0     0     0     0     0     0\n    0     0     0     0     0     0     0     0     0     0     0     0     0\n    0     0     0     0     0     0     0     0     0     0     0     0     0\n    0     0     0     0     0     0     0     0     0     0     0     0     0\n    0     0     0     0     0     0     0     0     0     0     0     0     0\n    0     0     0     0     0     0     0     0     0     0     0     0     0\n    0     0     0     0     0     0     0     0     0     0     0     0     0\n    0     0     0     0     0     0     0     0     0     0     0     0     0\n    0     0     0     0     0     0     0     0     0     0     0     0     0\n\nColumns 26 to 29 \n    0     0     0     0\n    0     0     1     0\n    0     0     0     0\n    0     0     0     0\n    0     0     0     0\n    0     0     0     0\n    0     0     0     0\n    0     0     0     0\n    0     0     0     0\n    0     0     0     0\n    0     0     0     0\n    0     0     0     0\n    0     0     0     0\n    0     0     0     0\n    0     0     0     0\n    0     0     0     0\n    0     0     0     0\n    0     0     0     0\n    0     0     0     0\n    0     0     0     0\n    0     0     0     0\n    0     0     0     0\n    0     0     0     0\n    0     0     0     0\n    0     0     0     0\n    0     0     0     0\n    0     0     0     0\n    0     0     0     0\n    0     0     0     0\n    0     0     0     0\n[torch.DoubleTensor of size 30x30]\n\ntest\n[-5.11599016  4.79869223  3.02046561  5.42854643 -5.67153502  1.61862564\n  4.16324139 -7.71690369  6.73939419 -4.77226496 -3.50307655 -0.13494614\n -1.25496662 -2.2878921   2.78373885 -2.10311103  2.19818926  2.67532778\n -1.01330066 -3.88088083 -1.2257359  -6.8396101   0.12247958 -0.82757056\n -0.16354775 -4.99531269 -4.87336588  1.29346335 -0.44540074 -2.02881479]\n(30,)\nid, char: 8, h\ntestdata:\n\n\nColumns 0 to 12 \n    0     0     0     0     0     0     0     0     0     0     0     0     0\n    0     0     0     0     0     0     0     0     0     1     0     0     0\n    0     0     0     0     0     0     0     0     0     0     0     0     0\n    0     0     0     0     1     0     0     0     0     0     0     0     0\n    0     0     0     0     0     1     0     0     0     0     0     0     0\n    0     0     0     0     0     0     0     0     0     0     0     0     0\n    0     0     0     0     0     0     0     0     0     0     0     0     0\n    0     0     0     0     0     0     0     0     0     0     0     0     0\n    0     0     0     0     0     0     0     0     0     0     0     0     0\n    0     0     0     0     0     0     0     0     0     0     0     0     0\n    0     0     0     0     0     0     0     0     0     0     0     0     0\n    0     0     0     0     0     0     0     0     0     0     0     0     0\n    0     0     0     0     0     0     0     0     0     0     0     0     0\n    0     0     0     0     0     0     0     0     0     0     0     0     0\n    0     0     0     0     0     0     0     0     0     0     0     0     0\n    0     0     0     0     0     0     0     0     0     0     0     0     0\n    0     0     0     0     0     0     0     0     0     0     0     0     0\n    0     0     0     0     0     0     0     0     0     0     0     0     0\n    0     0     0     0     0     0     0     0     0     0     0     0     0\n    0     0     0     0     0     0     0     0     0     0     0     0     0\n    0     0     0     0     0     0     0     0     0     0     0     0     0\n    0     0     0     0     0     0     0     0     0     0     0     0     0\n    0     0     0     0     0     0     0     0     0     0     0     0     0\n    0     0     0     0     0     0     0     0     0     0     0     0     0\n    0     0     0     0     0     0     0     0     0     0     0     0     0\n    0     0     0     0     0     0     0     0     0     0     0     0     0\n    0     0     0     0     0     0     0     0     0     0     0     0     0\n    0     0     0     0     0     0     0     0     0     0     0     0     0\n    0     0     0     0     0     0     0     0     0     0     0     0     0\n    0     0     0     0     0     0     0     0     0     0     0     0     0\n\nColumns 13 to 25 \n    0     0     0     0     0     0     0     0     0     1     0     0     0\n    0     0     0     0     0     0     0     0     0     0     0     0     0\n    0     1     0     0     0     0     0     0     0     0     0     0     0\n    0     0     0     0     0     0     0     0     0     0     0     0     0\n    0     0     0     0     0     0     0     0     0     0     0     0     0\n    0     0     0     0     0     0     0     0     0     0     0     0     0\n    0     0     0     0     0     0     0     0     0     0     0     0     0\n    0     0     0     0     0     0     0     0     0     0     0     0     0\n    0     0     0     0     0     0     0     0     0     0     0     0     0\n    0     0     0     0     0     0     0     0     0     0     0     0     0\n    0     0     0     0     0     0     0     0     0     0     0     0     0\n    0     0     0     0     0     0     0     0     0     0     0     0     0\n    0     0     0     0     0     0     0     0     0     0     0     0     0\n    0     0     0     0     0     0     0     0     0     0     0     0     0\n    0     0     0     0     0     0     0     0     0     0     0     0     0\n    0     0     0     0     0     0     0     0     0     0     0     0     0\n    0     0     0     0     0     0     0     0     0     0     0     0     0\n    0     0     0     0     0     0     0     0     0     0     0     0     0\n    0     0     0     0     0     0     0     0     0     0     0     0     0\n    0     0     0     0     0     0     0     0     0     0     0     0     0\n    0     0     0     0     0     0     0     0     0     0     0     0     0\n    0     0     0     0     0     0     0     0     0     0     0     0     0\n    0     0     0     0     0     0     0     0     0     0     0     0     0\n    0     0     0     0     0     0     0     0     0     0     0     0     0\n    0     0     0     0     0     0     0     0     0     0     0     0     0\n    0     0     0     0     0     0     0     0     0     0     0     0     0\n    0     0     0     0     0     0     0     0     0     0     0     0     0\n    0     0     0     0     0     0     0     0     0     0     0     0     0\n    0     0     0     0     0     0     0     0     0     0     0     0     0\n    0     0     0     0     0     0     0     0     0     0     0     0     0\n\nColumns 26 to 29 \n    0     0     0     0\n    0     0     0     0\n    0     0     0     0\n    0     0     0     0\n    0     0     0     0\n    0     0     0     0\n    0     0     0     0\n    0     0     0     0\n    0     0     0     0\n    0     0     0     0\n    0     0     0     0\n    0     0     0     0\n    0     0     0     0\n    0     0     0     0\n    0     0     0     0\n    0     0     0     0\n    0     0     0     0\n    0     0     0     0\n    0     0     0     0\n    0     0     0     0\n    0     0     0     0\n    0     0     0     0\n    0     0     0     0\n    0     0     0     0\n    0     0     0     0\n    0     0     0     0\n    0     0     0     0\n    0     0     0     0\n    0     0     0     0\n    0     0     0     0\n[torch.DoubleTensor of size 30x30]\n\ntest\n[ -7.08946323e+00  -4.10894728e+00   1.89654875e+00  -4.51635647e+00\n  -2.93956995e-01   1.06212177e+01   9.29024220e-01  -2.34636950e+00\n  -3.02897382e+00  -2.61398363e+00  -5.48485994e+00  -4.73797560e+00\n  -5.81852818e+00  -4.71647143e-01   7.21388149e+00  -1.02248049e+00\n  -2.66431880e+00  -6.69565439e-01   5.15796542e-02   1.27494335e+00\n   9.79848444e-01   1.15721738e+00  -3.94071317e+00  -6.84957790e+00\n   1.05549693e-02  -1.13960419e+01  -4.72551394e+00  -1.25950909e+00\n  -4.95144224e+00  -2.16562271e+00]"
     ]
    },
    {
     "name": "stdout",
     "output_type": "stream",
     "text": [
      "\n(30,)\nid, char: 5, e\ntestdata:\n\n\nColumns 0 to 12 \n    0     0     0     0     0     1     0     0     0     0     0     0     0\n    0     0     0     0     0     0     0     0     0     0     0     0     0\n    0     0     0     0     0     0     0     0     0     0     0     0     0\n    0     0     0     0     0     1     0     0     0     0     0     0     0\n    0     0     0     0     0     0     0     1     0     0     0     0     0\n    0     0     0     0     0     0     0     0     0     0     0     0     0\n    0     0     0     0     0     0     0     0     0     0     0     0     0\n    0     0     0     0     0     0     0     0     0     0     0     0     0\n    0     0     0     0     0     0     0     0     0     0     0     0     0\n    0     0     0     0     0     0     0     0     0     0     0     0     0\n    0     0     0     0     0     0     0     0     0     0     0     0     0\n    0     0     0     0     0     0     0     0     0     0     0     0     0\n    0     0     0     0     0     0     0     0     0     0     0     0     0\n    0     0     0     0     0     0     0     0     0     0     0     0     0\n    0     0     0     0     0     0     0     0     0     0     0     0     0\n    0     0     0     0     0     0     0     0     0     0     0     0     0\n    0     0     0     0     0     0     0     0     0     0     0     0     0\n    0     0     0     0     0     0     0     0     0     0     0     0     0\n    0     0     0     0     0     0     0     0     0     0     0     0     0\n    0     0     0     0     0     0     0     0     0     0     0     0     0\n    0     0     0     0     0     0     0     0     0     0     0     0     0\n    0     0     0     0     0     0     0     0     0     0     0     0     0\n    0     0     0     0     0     0     0     0     0     0     0     0     0\n    0     0     0     0     0     0     0     0     0     0     0     0     0\n    0     0     0     0     0     0     0     0     0     0     0     0     0\n    0     0     0     0     0     0     0     0     0     0     0     0     0\n    0     0     0     0     0     0     0     0     0     0     0     0     0\n    0     0     0     0     0     0     0     0     0     0     0     0     0\n    0     0     0     0     0     0     0     0     0     0     0     0     0\n    0     0     0     0     0     0     0     0     0     0     0     0     0\n\nColumns 13 to 25 \n    0     0     0     0     0     0     0     0     0     0     0     0     0\n    0     0     0     0     1     0     0     0     0     0     0     0     0\n    0     0     0     0     1     0     0     0     0     0     0     0     0\n    0     0     0     0     0     0     0     0     0     0     0     0     0\n    0     0     0     0     0     0     0     0     0     0     0     0     0\n    0     0     0     0     0     0     0     0     0     0     0     0     0\n    0     0     0     0     0     0     0     0     0     0     0     0     0\n    0     0     0     0     0     0     0     0     0     0     0     0     0\n    0     0     0     0     0     0     0     0     0     0     0     0     0\n    0     0     0     0     0     0     0     0     0     0     0     0     0\n    0     0     0     0     0     0     0     0     0     0     0     0     0\n    0     0     0     0     0     0     0     0     0     0     0     0     0\n    0     0     0     0     0     0     0     0     0     0     0     0     0\n    0     0     0     0     0     0     0     0     0     0     0     0     0\n    0     0     0     0     0     0     0     0     0     0     0     0     0\n    0     0     0     0     0     0     0     0     0     0     0     0     0\n    0     0     0     0     0     0     0     0     0     0     0     0     0\n    0     0     0     0     0     0     0     0     0     0     0     0     0\n    0     0     0     0     0     0     0     0     0     0     0     0     0\n    0     0     0     0     0     0     0     0     0     0     0     0     0\n    0     0     0     0     0     0     0     0     0     0     0     0     0\n    0     0     0     0     0     0     0     0     0     0     0     0     0\n    0     0     0     0     0     0     0     0     0     0     0     0     0\n    0     0     0     0     0     0     0     0     0     0     0     0     0\n    0     0     0     0     0     0     0     0     0     0     0     0     0\n    0     0     0     0     0     0     0     0     0     0     0     0     0\n    0     0     0     0     0     0     0     0     0     0     0     0     0\n    0     0     0     0     0     0     0     0     0     0     0     0     0\n    0     0     0     0     0     0     0     0     0     0     0     0     0\n    0     0     0     0     0     0     0     0     0     0     0     0     0\n\nColumns 26 to 29 \n    0     0     0     0\n    0     0     0     0\n    0     0     0     0\n    0     0     0     0\n    0     0     0     0\n    0     0     0     0\n    0     0     0     0\n    0     0     0     0\n    0     0     0     0\n    0     0     0     0\n    0     0     0     0\n    0     0     0     0\n    0     0     0     0\n    0     0     0     0\n    0     0     0     0\n    0     0     0     0\n    0     0     0     0\n    0     0     0     0\n    0     0     0     0\n    0     0     0     0\n    0     0     0     0\n    0     0     0     0\n    0     0     0     0\n    0     0     0     0\n    0     0     0     0\n    0     0     0     0\n    0     0     0     0\n    0     0     0     0\n    0     0     0     0\n    0     0     0     0\n[torch.DoubleTensor of size 30x30]\n\ntest\n[-8.79742622 -2.07246971 -3.76091671 -3.60517025 -6.84643745  5.47177744\n -0.50578374 -2.16049719  1.89256215  3.83428645 -5.37582111 -4.4958272\n -1.25292063 -2.32312655  3.00456786 -2.67967892 -2.17965603  4.14248419\n  1.33450413  3.92586732 -2.49686289 -6.40964651 -1.20380962 -8.99362087\n -1.79530346 -7.5457077  -1.74022841 -7.77910995 -5.20167542 -5.49704075]\n(30,)\nid, char: 5, e\ntestdata:\n\n\nColumns 0 to 12 \n    0     0     0     0     0     0     0     0     0     0     0     0     0\n    0     0     0     0     0     0     0     0     0     0     0     0     0\n    0     0     0     0     0     1     0     0     0     0     0     0     0\n    0     0     0     0     0     0     0     0     0     1     0     0     0\n    0     0     0     0     0     0     0     0     0     0     0     0     1\n    0     0     0     0     0     0     0     0     0     0     0     0     0\n    0     0     0     0     0     0     0     0     0     0     0     0     0\n    0     0     0     0     0     0     0     0     0     0     0     0     0\n    0     0     0     0     0     0     0     0     0     0     0     0     0\n    0     0     0     0     0     0     0     0     0     0     0     0     0\n    0     0     0     0     0     0     0     0     0     0     0     0     0\n    0     0     0     0     0     0     0     0     0     0     0     0     0\n    0     0     0     0     0     0     0     0     0     0     0     0     0\n    0     0     0     0     0     0     0     0     0     0     0     0     0\n    0     0     0     0     0     0     0     0     0     0     0     0     0\n    0     0     0     0     0     0     0     0     0     0     0     0     0\n    0     0     0     0     0     0     0     0     0     0     0     0     0\n    0     0     0     0     0     0     0     0     0     0     0     0     0\n    0     0     0     0     0     0     0     0     0     0     0     0     0\n    0     0     0     0     0     0     0     0     0     0     0     0     0\n    0     0     0     0     0     0     0     0     0     0     0     0     0\n    0     0     0     0     0     0     0     0     0     0     0     0     0\n    0     0     0     0     0     0     0     0     0     0     0     0     0\n    0     0     0     0     0     0     0     0     0     0     0     0     0\n    0     0     0     0     0     0     0     0     0     0     0     0     0\n    0     0     0     0     0     0     0     0     0     0     0     0     0\n    0     0     0     0     0     0     0     0     0     0     0     0     0\n    0     0     0     0     0     0     0     0     0     0     0     0     0\n    0     0     0     0     0     0     0     0     0     0     0     0     0\n    0     0     0     0     0     0     0     0     0     0     0     0     0\n\nColumns 13 to 25 \n    0     0     0     0     0     1     0     0     0     0     0     0     0\n    0     0     0     0     0     0     1     0     0     0     0     0     0\n    0     0     0     0     0     0     0     0     0     0     0     0     0\n    0     0     0     0     0     0     0     0     0     0     0     0     0\n    0     0     0     0     0     0     0     0     0     0     0     0     0\n    0     0     0     0     0     0     0     0     0     0     0     0     0\n    0     0     0     0     0     0     0     0     0     0     0     0     0\n    0     0     0     0     0     0     0     0     0     0     0     0     0\n    0     0     0     0     0     0     0     0     0     0     0     0     0\n    0     0     0     0     0     0     0     0     0     0     0     0     0\n    0     0     0     0     0     0     0     0     0     0     0     0     0\n    0     0     0     0     0     0     0     0     0     0     0     0     0\n    0     0     0     0     0     0     0     0     0     0     0     0     0\n    0     0     0     0     0     0     0     0     0     0     0     0     0\n    0     0     0     0     0     0     0     0     0     0     0     0     0\n    0     0     0     0     0     0     0     0     0     0     0     0     0\n    0     0     0     0     0     0     0     0     0     0     0     0     0\n    0     0     0     0     0     0     0     0     0     0     0     0     0\n    0     0     0     0     0     0     0     0     0     0     0     0     0\n    0     0     0     0     0     0     0     0     0     0     0     0     0\n    0     0     0     0     0     0     0     0     0     0     0     0     0\n    0     0     0     0     0     0     0     0     0     0     0     0     0\n    0     0     0     0     0     0     0     0     0     0     0     0     0\n    0     0     0     0     0     0     0     0     0     0     0     0     0\n    0     0     0     0     0     0     0     0     0     0     0     0     0\n    0     0     0     0     0     0     0     0     0     0     0     0     0\n    0     0     0     0     0     0     0     0     0     0     0     0     0\n    0     0     0     0     0     0     0     0     0     0     0     0     0\n    0     0     0     0     0     0     0     0     0     0     0     0     0\n    0     0     0     0     0     0     0     0     0     0     0     0     0\n\nColumns 26 to 29 \n    0     0     0     0\n    0     0     0     0\n    0     0     0     0\n    0     0     0     0\n    0     0     0     0\n    0     0     0     0\n    0     0     0     0\n    0     0     0     0\n    0     0     0     0\n    0     0     0     0\n    0     0     0     0\n    0     0     0     0\n    0     0     0     0\n    0     0     0     0\n    0     0     0     0\n    0     0     0     0\n    0     0     0     0\n    0     0     0     0\n    0     0     0     0\n    0     0     0     0\n    0     0     0     0\n    0     0     0     0\n    0     0     0     0\n    0     0     0     0\n    0     0     0     0\n    0     0     0     0\n    0     0     0     0\n    0     0     0     0\n    0     0     0     0\n    0     0     0     0\n[torch.DoubleTensor of size 30x30]\n\ntest\n[-7.26575565  1.77355659 -5.63608885 -4.23799038 -1.04665232  4.77905941\n  0.73293632  2.28307152  0.39712662  4.51997519 -6.69997311 -3.01239896\n  4.61140585 -3.12356973  2.99047041 -8.04642677 -4.88246632  0.49869004\n  0.04384714  6.21958065 -3.15075397 -4.8006258  -6.85868979 -7.76159573\n -6.48408461 -4.93490887 -2.20771623 -6.0144062  -6.13318872 -7.02373695]\n(30,)\nid, char: 19, t\ntestdata:\n\n\nColumns 0 to 12 \n    0     0     0     0     0     0     0     0     0     0     0     1     0\n    0     0     0     0     0     0     0     0     0     0     0     0     0\n    0     1     0     0     0     0     0     0     0     0     0     0     0\n    0     0     0     0     0     0     0     0     0     0     0     0     1\n    0     0     0     0     0     0     0     0     0     0     0     0     1\n    0     0     0     0     0     0     0     0     0     0     0     0     0\n    0     0     0     0     0     0     0     0     0     0     0     0     0\n    0     0     0     0     0     0     0     0     0     0     0     0     0\n    0     0     0     0     0     0     0     0     0     0     0     0     0\n    0     0     0     0     0     0     0     0     0     0     0     0     0\n    0     0     0     0     0     0     0     0     0     0     0     0     0\n    0     0     0     0     0     0     0     0     0     0     0     0     0\n    0     0     0     0     0     0     0     0     0     0     0     0     0\n    0     0     0     0     0     0     0     0     0     0     0     0     0\n    0     0     0     0     0     0     0     0     0     0     0     0     0\n    0     0     0     0     0     0     0     0     0     0     0     0     0\n    0     0     0     0     0     0     0     0     0     0     0     0     0\n    0     0     0     0     0     0     0     0     0     0     0     0     0\n    0     0     0     0     0     0     0     0     0     0     0     0     0\n    0     0     0     0     0     0     0     0     0     0     0     0     0\n    0     0     0     0     0     0     0     0     0     0     0     0     0\n    0     0     0     0     0     0     0     0     0     0     0     0     0\n    0     0     0     0     0     0     0     0     0     0     0     0     0\n    0     0     0     0     0     0     0     0     0     0     0     0     0\n    0     0     0     0     0     0     0     0     0     0     0     0     0\n    0     0     0     0     0     0     0     0     0     0     0     0     0\n    0     0     0     0     0     0     0     0     0     0     0     0     0\n    0     0     0     0     0     0     0     0     0     0     0     0     0\n    0     0     0     0     0     0     0     0     0     0     0     0     0\n    0     0     0     0     0     0     0     0     0     0     0     0     0\n\nColumns 13 to 25 \n    0     0     0     0     0     0     0     0     0     0     0     0     0\n    0     0     0     0     1     0     0     0     0     0     0     0     0\n    0     0     0     0     0     0     0     0     0     0     0     0     0\n    0     0     0     0     0     0     0     0     0     0     0     0     0\n    0     0     0     0     0     0     0     0     0     0     0     0     0\n    0     0     0     0     0     0     0     0     0     0     0     0     0\n    0     0     0     0     0     0     0     0     0     0     0     0     0\n    0     0     0     0     0     0     0     0     0     0     0     0     0\n    0     0     0     0     0     0     0     0     0     0     0     0     0\n    0     0     0     0     0     0     0     0     0     0     0     0     0\n    0     0     0     0     0     0     0     0     0     0     0     0     0\n    0     0     0     0     0     0     0     0     0     0     0     0     0\n    0     0     0     0     0     0     0     0     0     0     0     0     0\n    0     0     0     0     0     0     0     0     0     0     0     0     0\n    0     0     0     0     0     0     0     0     0     0     0     0     0\n    0     0     0     0     0     0     0     0     0     0     0     0     0\n    0     0     0     0     0     0     0     0     0     0     0     0     0\n    0     0     0     0     0     0     0     0     0     0     0     0     0\n    0     0     0     0     0     0     0     0     0     0     0     0     0\n    0     0     0     0     0     0     0     0     0     0     0     0     0\n    0     0     0     0     0     0     0     0     0     0     0     0     0\n    0     0     0     0     0     0     0     0     0     0     0     0     0\n    0     0     0     0     0     0     0     0     0     0     0     0     0\n    0     0     0     0     0     0     0     0     0     0     0     0     0\n    0     0     0     0     0     0     0     0     0     0     0     0     0\n    0     0     0     0     0     0     0     0     0     0     0     0     0\n    0     0     0     0     0     0     0     0     0     0     0     0     0\n    0     0     0     0     0     0     0     0     0     0     0     0     0\n    0     0     0     0     0     0     0     0     0     0     0     0     0\n    0     0     0     0     0     0     0     0     0     0     0     0     0\n\nColumns 26 to 29 \n    0     0     0     0\n    0     0     0     0\n    0     0     0     0\n    0     0     0     0\n    0     0     0     0\n    0     0     0     0\n    0     0     0     0\n    0     0     0     0\n    0     0     0     0\n    0     0     0     0\n    0     0     0     0\n    0     0     0     0\n    0     0     0     0\n    0     0     0     0\n    0     0     0     0\n    0     0     0     0\n    0     0     0     0\n    0     0     0     0\n    0     0     0     0\n    0     0     0     0\n    0     0     0     0\n    0     0     0     0\n    0     0     0     0\n    0     0     0     0\n    0     0     0     0\n    0     0     0     0\n    0     0     0     0\n    0     0     0     0\n    0     0     0     0\n    0     0     0     0\n[torch.DoubleTensor of size 30x30]\n\n"
     ]
    },
    {
     "name": "stdout",
     "output_type": "stream",
     "text": [
      "test\n[ -8.02255821   3.52648258  -3.25683308   3.53440857  -0.71668553\n   7.40387964  -4.13997793 -10.8001194    1.55285907  -0.17420679\n  -3.63638043  -7.54215717  -8.90991974  -2.15987539   6.08065653\n   0.32635218   3.08507133   3.70598793  -0.43737108  -2.57467604\n   0.72847307  -9.15349102   3.31164837  -5.24285507  -1.42512083\n  -7.32838488  -6.20543242  -7.06478977  -6.7322011   -6.38717461]\n(30,)\nid, char: 5, e\ntestdata:\n\n\nColumns 0 to 12 \n    0     1     0     0     0     0     0     0     0     0     0     0     0\n    0     0     0     0     0     0     0     0     0     0     0     0     0\n    0     0     0     0     0     0     1     0     0     0     0     0     0\n    0     0     0     0     0     0     0     0     0     0     0     0     0\n    0     1     0     0     0     0     0     0     0     0     0     0     0\n    0     0     0     0     0     0     0     0     0     0     0     0     0\n    0     0     0     0     0     0     0     0     0     0     0     0     0\n    0     0     0     0     0     0     0     0     0     0     0     0     0\n    0     0     0     0     0     0     0     0     0     0     0     0     0\n    0     0     0     0     0     0     0     0     0     0     0     0     0\n    0     0     0     0     0     0     0     0     0     0     0     0     0\n    0     0     0     0     0     0     0     0     0     0     0     0     0\n    0     0     0     0     0     0     0     0     0     0     0     0     0\n    0     0     0     0     0     0     0     0     0     0     0     0     0\n    0     0     0     0     0     0     0     0     0     0     0     0     0\n    0     0     0     0     0     0     0     0     0     0     0     0     0\n    0     0     0     0     0     0     0     0     0     0     0     0     0\n    0     0     0     0     0     0     0     0     0     0     0     0     0\n    0     0     0     0     0     0     0     0     0     0     0     0     0\n    0     0     0     0     0     0     0     0     0     0     0     0     0\n    0     0     0     0     0     0     0     0     0     0     0     0     0\n    0     0     0     0     0     0     0     0     0     0     0     0     0\n    0     0     0     0     0     0     0     0     0     0     0     0     0\n    0     0     0     0     0     0     0     0     0     0     0     0     0\n    0     0     0     0     0     0     0     0     0     0     0     0     0\n    0     0     0     0     0     0     0     0     0     0     0     0     0\n    0     0     0     0     0     0     0     0     0     0     0     0     0\n    0     0     0     0     0     0     0     0     0     0     0     0     0\n    0     0     0     0     0     0     0     0     0     0     0     0     0\n    0     0     0     0     0     0     0     0     0     0     0     0     0\n\nColumns 13 to 25 \n    0     0     0     0     0     0     0     0     0     0     0     0     0\n    0     0     0     0     0     0     0     1     0     0     0     0     0\n    0     0     0     0     0     0     0     0     0     0     0     0     0\n    0     0     0     0     1     0     0     0     0     0     0     0     0\n    0     0     0     0     0     0     0     0     0     0     0     0     0\n    0     0     0     0     0     0     0     0     0     0     0     0     0\n    0     0     0     0     0     0     0     0     0     0     0     0     0\n    0     0     0     0     0     0     0     0     0     0     0     0     0\n    0     0     0     0     0     0     0     0     0     0     0     0     0\n    0     0     0     0     0     0     0     0     0     0     0     0     0\n    0     0     0     0     0     0     0     0     0     0     0     0     0\n    0     0     0     0     0     0     0     0     0     0     0     0     0\n    0     0     0     0     0     0     0     0     0     0     0     0     0\n    0     0     0     0     0     0     0     0     0     0     0     0     0\n    0     0     0     0     0     0     0     0     0     0     0     0     0\n    0     0     0     0     0     0     0     0     0     0     0     0     0\n    0     0     0     0     0     0     0     0     0     0     0     0     0\n    0     0     0     0     0     0     0     0     0     0     0     0     0\n    0     0     0     0     0     0     0     0     0     0     0     0     0\n    0     0     0     0     0     0     0     0     0     0     0     0     0\n    0     0     0     0     0     0     0     0     0     0     0     0     0\n    0     0     0     0     0     0     0     0     0     0     0     0     0\n    0     0     0     0     0     0     0     0     0     0     0     0     0\n    0     0     0     0     0     0     0     0     0     0     0     0     0\n    0     0     0     0     0     0     0     0     0     0     0     0     0\n    0     0     0     0     0     0     0     0     0     0     0     0     0\n    0     0     0     0     0     0     0     0     0     0     0     0     0\n    0     0     0     0     0     0     0     0     0     0     0     0     0\n    0     0     0     0     0     0     0     0     0     0     0     0     0\n    0     0     0     0     0     0     0     0     0     0     0     0     0\n\nColumns 26 to 29 \n    0     0     0     0\n    0     0     0     0\n    0     0     0     0\n    0     0     0     0\n    0     0     0     0\n    0     0     0     0\n    0     0     0     0\n    0     0     0     0\n    0     0     0     0\n    0     0     0     0\n    0     0     0     0\n    0     0     0     0\n    0     0     0     0\n    0     0     0     0\n    0     0     0     0\n    0     0     0     0\n    0     0     0     0\n    0     0     0     0\n    0     0     0     0\n    0     0     0     0\n    0     0     0     0\n    0     0     0     0\n    0     0     0     0\n    0     0     0     0\n    0     0     0     0\n    0     0     0     0\n    0     0     0     0\n    0     0     0     0\n    0     0     0     0\n    0     0     0     0\n[torch.DoubleTensor of size 30x30]\n\ntest\n[-8.35799694 -3.20426893 -0.66934192 -8.19207191 -1.35440719  5.80777264\n -6.07966232 -1.85571766 -2.51776314  6.56104183 -7.38345623 -2.65922141\n -1.61807156  0.03481942  4.68758392 -6.26341009 -2.20345092  5.03153086\n  2.84399509  3.97876525 -0.73448867 -5.02996826 -2.74880743 -8.43085194\n -3.92520905 -6.01275492 -6.00296402 -6.28209543 -7.59795666 -8.17787933]\n(30,)\nid, char: 9, i\ntestdata:\n\n\nColumns 0 to 12 \n    0     0     0     0     0     0     0     0     0     0     0     0     0\n    0     0     0     0     0     0     0     0     0     0     0     0     0\n    0     0     0     0     0     0     0     0     0     1     0     0     0\n    0     0     0     0     0     0     0     0     0     0     0     0     0\n    0     0     0     0     0     0     0     0     0     0     0     0     0\n    0     0     0     0     0     0     0     0     0     0     0     0     0\n    0     0     0     0     0     0     0     0     0     0     0     0     0\n    0     0     0     0     0     0     0     0     0     0     0     0     0\n    0     0     0     0     0     0     0     0     0     0     0     0     0\n    0     0     0     0     0     0     0     0     0     0     0     0     0\n    0     0     0     0     0     0     0     0     0     0     0     0     0\n    0     0     0     0     0     0     0     0     0     0     0     0     0\n    0     0     0     0     0     0     0     0     0     0     0     0     0\n    0     0     0     0     0     0     0     0     0     0     0     0     0\n    0     0     0     0     0     0     0     0     0     0     0     0     0\n    0     0     0     0     0     0     0     0     0     0     0     0     0\n    0     0     0     0     0     0     0     0     0     0     0     0     0\n    0     0     0     0     0     0     0     0     0     0     0     0     0\n    0     0     0     0     0     0     0     0     0     0     0     0     0\n    0     0     0     0     0     0     0     0     0     0     0     0     0\n    0     0     0     0     0     0     0     0     0     0     0     0     0\n    0     0     0     0     0     0     0     0     0     0     0     0     0\n    0     0     0     0     0     0     0     0     0     0     0     0     0\n    0     0     0     0     0     0     0     0     0     0     0     0     0\n    0     0     0     0     0     0     0     0     0     0     0     0     0\n    0     0     0     0     0     0     0     0     0     0     0     0     0\n    0     0     0     0     0     0     0     0     0     0     0     0     0\n    0     0     0     0     0     0     0     0     0     0     0     0     0\n    0     0     0     0     0     0     0     0     0     0     0     0     0\n    0     0     0     0     0     0     0     0     0     0     0     0     0\n\nColumns 13 to 25 \n    0     0     0     0     0     1     0     0     0     0     0     0     0\n    0     0     0     1     0     0     0     0     0     0     0     0     0\n    0     0     0     0     0     0     0     0     0     0     0     0     0\n    0     0     0     0     0     0     1     0     0     0     0     0     0\n    0     0     0     0     0     0     0     0     0     0     0     1     0\n    0     0     0     0     0     0     0     0     0     0     0     0     0\n    0     0     0     0     0     0     0     0     0     0     0     0     0\n    0     0     0     0     0     0     0     0     0     0     0     0     0\n    0     0     0     0     0     0     0     0     0     0     0     0     0\n    0     0     0     0     0     0     0     0     0     0     0     0     0\n    0     0     0     0     0     0     0     0     0     0     0     0     0\n    0     0     0     0     0     0     0     0     0     0     0     0     0\n    0     0     0     0     0     0     0     0     0     0     0     0     0\n    0     0     0     0     0     0     0     0     0     0     0     0     0\n    0     0     0     0     0     0     0     0     0     0     0     0     0\n    0     0     0     0     0     0     0     0     0     0     0     0     0\n    0     0     0     0     0     0     0     0     0     0     0     0     0\n    0     0     0     0     0     0     0     0     0     0     0     0     0\n    0     0     0     0     0     0     0     0     0     0     0     0     0\n    0     0     0     0     0     0     0     0     0     0     0     0     0\n    0     0     0     0     0     0     0     0     0     0     0     0     0\n    0     0     0     0     0     0     0     0     0     0     0     0     0\n    0     0     0     0     0     0     0     0     0     0     0     0     0\n    0     0     0     0     0     0     0     0     0     0     0     0     0\n    0     0     0     0     0     0     0     0     0     0     0     0     0\n    0     0     0     0     0     0     0     0     0     0     0     0     0\n    0     0     0     0     0     0     0     0     0     0     0     0     0\n    0     0     0     0     0     0     0     0     0     0     0     0     0\n    0     0     0     0     0     0     0     0     0     0     0     0     0\n    0     0     0     0     0     0     0     0     0     0     0     0     0\n\nColumns 26 to 29 \n    0     0     0     0\n    0     0     0     0\n    0     0     0     0\n    0     0     0     0\n    0     0     0     0\n    0     0     0     0\n    0     0     0     0\n    0     0     0     0\n    0     0     0     0\n    0     0     0     0\n    0     0     0     0\n    0     0     0     0\n    0     0     0     0\n    0     0     0     0\n    0     0     0     0\n    0     0     0     0\n    0     0     0     0\n    0     0     0     0\n    0     0     0     0\n    0     0     0     0\n    0     0     0     0\n    0     0     0     0\n    0     0     0     0\n    0     0     0     0\n    0     0     0     0\n    0     0     0     0\n    0     0     0     0\n    0     0     0     0\n    0     0     0     0\n    0     0     0     0\n[torch.DoubleTensor of size 30x30]\n\n"
     ]
    },
    {
     "name": "stdout",
     "output_type": "stream",
     "text": [
      "test\n[-6.19163609 -2.27756882 -8.19443417 -3.17603588 -1.90317488  7.27658224\n  2.71001506 -5.67663574  0.76343232  2.22419667 -5.59305763 -3.79128385\n  8.85343933  0.90763885 -0.40419811  0.44203103  2.18676639 -3.12045956\n  1.94815302  0.41431487 -2.4201777  -2.53792262 -4.18731213 -6.02349091\n -4.31631899 -4.62060642  0.07088119 -2.82968807 -2.31954455 -6.91437626]\n(30,)\nid, char: 12, l\n"
     ]
    }
   ],
   "source": [
    "\n",
    "testcases = [\"zahnr\", \" währ\", \"mühsa\", \"winde\", \"erreg\", \"steil\", \"krall\", \"aufra\", \"spitz\"]\n",
    "for case in testcases:\n",
    "    predict_completion(rnn, case.lower(), topn=3)"
   ]
  },
  {
   "cell_type": "code",
   "execution_count": null,
   "metadata": {
    "collapsed": false
   },
   "outputs": [
    {
     "name": "stdout",
     "output_type": "stream",
     "text": [
      "29\n",
      "{'ö': 26, 'c': 3, 'd': 4, 'j': 10, 'g': 7, 'p': 16, 'l': 12, 'e': 5, 'r': 17, 'b': 2, 't': 19, 'f': 6, 'ü': 27, ' ': 0, 'u': 20, 'z': 23, 'v': 21, 'k': 11, 'w': 22, 'ß': 24, 'o': 15, 'n': 14, 'ä': 25, 'i': 9, 'h': 8, 's': 18, '–': 28, 'm': 13, 'a': 1}\n",
      "81\n"
     ]
    }
   ],
   "source": [
    "print(train_set.no_classes)\n",
    "print(char_idx)\n",
    "print(args.batch_size)\n"
   ]
  },
  {
   "cell_type": "code",
   "execution_count": null,
   "metadata": {
    "collapsed": true
   },
   "outputs": [],
   "source": []
  },
  {
   "cell_type": "code",
   "execution_count": null,
   "metadata": {
    "collapsed": true
   },
   "outputs": [],
   "source": []
  },
  {
   "cell_type": "code",
   "execution_count": null,
   "metadata": {
    "collapsed": true
   },
   "outputs": [],
   "source": []
  }
 ],
 "metadata": {
  "anaconda-cloud": {},
  "kernelspec": {
   "display_name": "Python [default]",
   "language": "python",
   "name": "python3"
  },
  "language_info": {
   "codemirror_mode": {
    "name": "ipython",
    "version": 3
   },
   "file_extension": ".py",
   "mimetype": "text/x-python",
   "name": "python",
   "nbconvert_exporter": "python",
   "pygments_lexer": "ipython3",
   "version": "3.5.2"
  }
 },
 "nbformat": 4,
 "nbformat_minor": 2
}
