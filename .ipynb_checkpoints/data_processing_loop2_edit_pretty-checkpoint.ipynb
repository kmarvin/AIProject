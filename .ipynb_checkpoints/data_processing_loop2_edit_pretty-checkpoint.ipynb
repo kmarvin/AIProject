{
 "cells": [
  {
   "cell_type": "code",
   "execution_count": null,
   "metadata": {
    "collapsed": true
   },
   "outputs": [],
   "source": [
    "# import libraries\n",
    "#-*- encoding: iso-8859-15 -*-\n",
    "import numpy as np\n",
    "from easydict import EasyDict as edict\n",
    "import torch\n",
    "from torch.utils.data import Dataset, DataLoader\n",
    "from torch.autograd import Variable\n",
    "import torch.autograd as autograd\n",
    "import torch.nn as nn\n",
    "import torch.nn.functional as F\n",
    "import torch.optim as optim\n",
    "import itertools\n",
    "from matplotlib import pyplot as plt\n",
    "import heapq\n",
    "import random"
   ]
  },
  {
   "cell_type": "markdown",
   "metadata": {},
   "source": [
    "#### Configuration / parameters to set"
   ]
  },
  {
   "cell_type": "code",
   "execution_count": 10,
   "metadata": {
    "collapsed": true
   },
   "outputs": [],
   "source": [
    "def set_config(config_path = \"config.txt\", args = dict()):\n",
    "    ''' Function that reads configuration parameters from a text file source. \n",
    "    Returns an edict containing all parameters and their respective values. '''\n",
    "    \n",
    "    with open(config_path) as source:\n",
    "        for line in source:\n",
    "            line = line.strip()\n",
    "            argLong, valueLong = line.split('=')\n",
    "            arg = argLong.strip()\n",
    "            value = valueLong.strip()\n",
    "            if value == 'True':\n",
    "                value = True\n",
    "            elif value == 'False':\n",
    "                value = False\n",
    "            elif '.' in value:\n",
    "                value = float(value)\n",
    "            else:\n",
    "                value = int(value)\n",
    "            args[arg] = value\n",
    "    return edict(args)"
   ]
  },
  {
   "cell_type": "markdown",
   "metadata": {},
   "source": [
    "#### Data Processing functions and classes"
   ]
  },
  {
   "cell_type": "code",
   "execution_count": 14,
   "metadata": {
    "collapsed": true
   },
   "outputs": [],
   "source": [
    "def prepare_text(textsource):\n",
    "    ''' Function that reads a text from a textfile with encoding utf8. \n",
    "    It removes all special characters, but keeps spaces. \n",
    "    in: \n",
    "        textsource: path of the textfile to read\n",
    "    out:\n",
    "        text: string containing the text in lower case and without any special characters. '''\n",
    "    \n",
    "    text = ''\n",
    "    with open(textsource, encoding=\"utf8\") as txtsource:\n",
    "        for line in txtsource:\n",
    "            line = line.strip().lower()\n",
    "            line = ''.join(c for c in line if c.isalnum() or c == ' ')\n",
    "            text += ' ' + line\n",
    "    text = text[:64100]\n",
    "    return text"
   ]
  },
  {
   "cell_type": "code",
   "execution_count": 18,
   "metadata": {
    "collapsed": true
   },
   "outputs": [],
   "source": [
    "def prepare_data(text, seq_len, offset, char_idx, idx_char):\n",
    "    ''' Function that generates one-hot encoded training/test features and target vectors\n",
    "    from the given text.\n",
    "    in: \n",
    "        text: string containing the text from which the features should be generated from\n",
    "        seq_len: sequence length of one training/test sample\n",
    "        offset: offset by which two training/test samples should be spaced \n",
    "        char_idx: dictionary mapping unique chars to indices\n",
    "        idx_char: dictionary mapping indices to unique chars \n",
    "        \n",
    "    out:\n",
    "        X: One-hot encoded vector of features\n",
    "        y: vector of targets '''\n",
    "    \n",
    "    # Define training samples by splitting the text\n",
    "    sentences = []\n",
    "    next_chars = []\n",
    "    for i in range(0, len(text) - seq_len, offset):\n",
    "        sentences.append(text[i: i + seq_len])\n",
    "        next_chars.append(text[i + seq_len])\n",
    "    \n",
    "    # Generate features and labels using one-hot encoding\n",
    "    X = np.zeros((len(sentences), seq_len, len(chars)), dtype='f')\n",
    "    y = np.zeros((len(sentences)))\n",
    "    \n",
    "    for i, sentence in enumerate(sentences):\n",
    "        for j, char in enumerate(sentence):\n",
    "            X[i, j, char_idx[char]] = 1\n",
    "        y[i] = char_idx[next_chars[i]]\n",
    "        \n",
    "    return X, y"
   ]
  },
  {
   "cell_type": "code",
   "execution_count": 19,
   "metadata": {
    "collapsed": true
   },
   "outputs": [],
   "source": [
    "class TextDataset(Dataset):\n",
    "    ''' A text dataset class which implements the abstract class torch.utils.data.Dataset. '''\n",
    "    \n",
    "    def __init__(self, text, seq_len, offset, char_idx, idx_char):\n",
    "        self.data, self.target = prepare_data(text, seq_len, offset, char_idx, idx_char)\n",
    "                                                                                                      \n",
    "    def __getitem__(self, index):\n",
    "        ''' Get the data for one training sample (by index) '''\n",
    "        return self.data[index,:,:], self.target[index] \n",
    "    \n",
    "    def __len__(self):\n",
    "        ''' Get the number of training samples '''\n",
    "        return self.data.shape[0]"
   ]
  },
  {
   "cell_type": "markdown",
   "metadata": {},
   "source": [
    "#### LSTM functions and classes"
   ]
  },
  {
   "cell_type": "code",
   "execution_count": 21,
   "metadata": {},
   "outputs": [],
   "source": [
    "class LSTM_RNN(nn.Module):\n",
    "    ''' Class defining a recurrent neural network for text autocompletion tasks. '''\n",
    "    \n",
    "    def __init__(self, no_classes):\n",
    "        super(LSTM_RNN, self).__init__()\n",
    "        \n",
    "        self.lstm = nn.GRU(input_size = no_classes, hidden_size = args.hidden_size, num_layers = args.num_layers)\n",
    "        self.linear = nn.Linear(in_features = args.hidden_size, out_features = no_classes)\n",
    "        self.softmax = nn.Softplus()\n",
    "        \n",
    "        nn.init.normal( self.linear.weight, 0, 0.075)\n",
    "        nn.init.normal(self.linear.bias, 0, 0.075)\n",
    "        nn.init.xavier_normal(self.lstm.weight_hh_l0)\n",
    "        nn.init.xavier_normal(self.lstm.weight_ih_l0)\n",
    "        \n",
    "        # LSTM needs hidden variables which is initialized in self.init_hidden(self)\n",
    "        self.hidden = self.init_hidden()\n",
    "    \n",
    "    def init_hidden(self):\n",
    "        h0 = Variable(torch.zeros(args.num_layers, args.batch_size, args.hidden_size))\n",
    "        c0 = Variable(torch.zeros(args.num_layers, args.batch_size, args.hidden_size))\n",
    "        return (h0)#,c0)#Variable(torch.zeros((args.num_layers, args.batch_size, args.hidden_size)))\n",
    "    \n",
    "    def forward(self, x, hidden):\n",
    "        lstm_out, hidden = self.lstm(x, hidden) # (h0, c0 are set to default values)\n",
    "        linear_out = self.linear(lstm_out[-1])\n",
    "        return linear_out, hidden"
   ]
  },
  {
   "cell_type": "code",
   "execution_count": 24,
   "metadata": {
    "collapsed": true
   },
   "outputs": [],
   "source": [
    "def train(model, epoch):\n",
    "    ''' Training loop (one epoch) '''\n",
    "    \n",
    "    model.train()\n",
    "    criterion = nn.CrossEntropyLoss() # use the cross-entropy loss\n",
    "    total_loss = 0.0 # compute total loss over one epoch\n",
    "\n",
    "    for batch_idx, (data, target) in enumerate(train_loader):\n",
    "        data = data.transpose(0, 1) #swap seq_len and batch_size\n",
    "        \n",
    "        if args.cuda:\n",
    "            data, target = data.cuda(), target.cuda()\n",
    "        data, target = Variable(data), Variable(target)\n",
    "        \n",
    "        hidden = model.init_hidden()\n",
    "        optimizer.zero_grad()\n",
    "        loss = 0\n",
    "    \n",
    "        # Iterate over a sequence, predict every next character and accumulate the loss \n",
    "        for c in range(args.seq_len - 1):\n",
    "            output, hidden = model(data[c, :, :].contiguous().view(1, -1, no_classes), hidden) \n",
    "            loss += criterion(output, decode(data[c+1, :, :])) # check how far away the output is from the original data\n",
    "            \n",
    "        output, hidden = model(data[args.seq_len-1, :, :].contiguous().view(1, -1, no_classes), hidden)\n",
    "        loss += criterion(output, target.type(torch.LongTensor))\n",
    "        loss.backward(retain_graph=True)\n",
    "        optimizer.step()\n",
    "        \n",
    "        total_loss += loss.data[0]\n",
    "\n",
    "    relative_loss = total_loss/float(len(train_loader)*args.seq_len)\n",
    "    print('Mean loss over epoch %s: %s' %(epoch, relative_loss))\n",
    "    return relative_loss # return the relative loss for later analysis\n",
    "            "
   ]
  },
  {
   "cell_type": "code",
   "execution_count": 25,
   "metadata": {
    "collapsed": true
   },
   "outputs": [],
   "source": [
    "def evaluate(model, epoch):\n",
    "    ''' Evaluation loop (one epoch)'''\n",
    "    \n",
    "    model.eval()\n",
    "    criterion = nn.CrossEntropyLoss() # use the cross-entropy loss\n",
    "    total_loss = 0.0 # compute total loss over one epoch\n",
    "    correct = 0\n",
    "\n",
    "    for batch_idx, (data, target) in enumerate(test_loader):\n",
    "        \n",
    "        data = data.transpose(0, 1)\n",
    "        if args.cuda:\n",
    "            data, target = data.cuda(), target.cuda()\n",
    "        data, target = Variable(data), Variable(target)\n",
    "        \n",
    "        hidden = model.init_hidden()\n",
    "        optimizer.zero_grad()\n",
    "        output, hidden = model(data, hidden)\n",
    "        loss = criterion(output, target.type(torch.LongTensor)) \n",
    "        pred = output.data.max(1, keepdim=True)[1] # get index of max log prob\n",
    "        correct += pred.eq(target.type(torch.LongTensor).data.view_as(pred)).cpu().sum() # check for true predictions\n",
    "\n",
    "        total_loss += loss.data[0]\n",
    "    \n",
    "    model.train()\n",
    "    relative_loss = total_loss/float(len(test_loader))\n",
    "    accuracy = correct/(len(test_loader)*args.batch_size)\n",
    "    print('Mean test loss over epoch %s: %s' %(epoch, relative_loss))#loss.data[0]))\n",
    "    print('Accuracy: ' + str(accuracy) + '([{}%])'.format(accuracy*100))\n",
    "    return relative_loss, accuracy # return the relative loss and accuracy for later analysis\n",
    "            "
   ]
  },
  {
   "cell_type": "code",
   "execution_count": 26,
   "metadata": {
    "collapsed": true
   },
   "outputs": [],
   "source": [
    "def rnn_predict(model, testdata):\n",
    "    ''' Prediction loop for ONE testdata array '''\n",
    "\n",
    "    testdata = torch.from_numpy(testdata)\n",
    "    model.eval()\n",
    "\n",
    "    if args.cuda:\n",
    "        testdata = testdata.cuda()\n",
    "    \n",
    "    testdata = testdata.type(torch.FloatTensor)\n",
    "    testdata = Variable(testdata)\n",
    "    hidden = model.init_hidden()\n",
    "    prediction = model(testdata.unsqueeze(1), hidden)\n",
    "    \n",
    "    return prediction "
   ]
  },
  {
   "cell_type": "markdown",
   "metadata": {},
   "source": [
    "\n",
    "#### Prediction functions"
   ]
  },
  {
   "cell_type": "code",
   "execution_count": 29,
   "metadata": {
    "collapsed": true
   },
   "outputs": [],
   "source": [
    "def prepare_input(text):\n",
    "    ''' Function to create an one-hot encoding for the given text '''\n",
    "    \n",
    "    X = np.zeros((len(text), no_classes)) \n",
    "    for t, char in enumerate(text):          \n",
    "        X[t, char_idx[char]] = 1.\n",
    "    return X\n",
    "\n",
    "def sample(preds, top_n=1):\n",
    "    ''' Function returning the element(s) of preds with the highest probability. '''\n",
    "    preds = preds[-1].data.numpy()\n",
    "    exp_preds = np.exp(preds)\n",
    "    preds = exp_preds / np.sum(exp_preds)\n",
    "\n",
    "    return heapq.nlargest(len(preds), zip(preds, itertools.count()))\n",
    "\n",
    "\n",
    "def predict_completion(model, text, topn=1, max_iterations=10, stop_on_space = True):\n",
    "    ''' Function that iteratively predicts the following character until a space is predicted '''\n",
    "    original_text = text\n",
    "    processed = text\n",
    "\n",
    "    i = 0\n",
    "    completion = ''\n",
    "    next_char = '' \n",
    "    while next_char != ' ' and i < max_iterations:\n",
    "        \n",
    "        i += 1\n",
    "        x = prepare_input(text)\n",
    "        preds = rnn_predict(model, x) # make a prediction\n",
    "        next_chars = sample(preds[0], top_n=topn) # find character with highest prob.\n",
    "        text = text[1:] + idx_char[next_chars[0][1]]\n",
    "        completion += idx_char[next_chars[0][1]]\n",
    "        \n",
    "        if stop_on_space:\n",
    "            next_char = idx_char[next_chars[0][1]]\n",
    "            if next_char == ' ':\n",
    "                completion = completion[:-1]\n",
    "                break\n",
    "                \n",
    "    return completion\n",
    "\n",
    "def predict_completions(model, text, n=3):\n",
    "    ''' Function to give multiple possible completions of an input text. '''\n",
    "    x = prepare_input(text)\n",
    "    preds = model.rnn_predict(x, verbose=0)[0]\n",
    "    next_indices = sample(preds, n)\n",
    "    return [idx_char[idx] + predict_completion(text[1:] + idx_char[idx]) for idx in next_indices]\n",
    "\n",
    "\n",
    "def get_testcases(text, seq_lengths = (10,100), offset = 1):\n",
    "    ''' Function to generate test instances of different length from a given text. '''\n",
    "    validation_sentences = []\n",
    "    endings = []\n",
    "    for i in range(0, len(text) - seq_lengths[1], offset):\n",
    "        seq_len = random.randint(seq_lengths[0], seq_lengths[1])\n",
    "        validation_sentences.append(text[i: i + seq_len])\n",
    "        \n",
    "        ending = ''\n",
    "        while text[i + seq_len] != ' ':\n",
    "            ending += text[i + seq_len]\n",
    "            seq_len += 1\n",
    "        endings.append(ending)    \n",
    "    \n",
    "    idx = np.random.choice(np.arange(len(validation_sentences)), 50, replace=True)\n",
    "    testcases = [validation_sentences[i] for i in idx]\n",
    "    test_endings = [endings[i] for i in idx]\n",
    "    \n",
    "    return testcases, test_endings"
   ]
  },
  {
   "cell_type": "markdown",
   "metadata": {},
   "source": [
    "#### Further functions"
   ]
  },
  {
   "cell_type": "code",
   "execution_count": 22,
   "metadata": {
    "collapsed": true
   },
   "outputs": [],
   "source": [
    "def findOnes(sample):\n",
    "    ''' Helper function to find the 1 in a one-hot encoded vector. '''\n",
    "    arr = sample.data.numpy()\n",
    "    i = 0\n",
    "    flag = False\n",
    "    for k in np.nditer(arr):\n",
    "        if k == 1:\n",
    "            flag = True\n",
    "            break\n",
    "        i += 1\n",
    "    if flag == True:\n",
    "        return i\n",
    "    else:\n",
    "        return 0\n",
    "\n",
    "def decode(data):\n",
    "    ''' Function to find the index of one-hot encoded vector where the 1 is located. '''\n",
    "    class_tensor = torch.LongTensor(args.batch_size)\n",
    "    for i in range(args.batch_size):\n",
    "        class_tensor[i] = findOnes(data[i])\n",
    "    \n",
    "    return Variable(class_tensor)\n",
    "\n",
    "def lfactor(num):\n",
    "    ''' Function that returns the largest factor of number that isn't the number itself '''\n",
    "    \n",
    "    for i in range(num - 1, 0, -1): # go backwards from num - 1 to 1\n",
    "        if num % i == 0:            # if a number divides evenly\n",
    "            return i                # it's the largest factor"
   ]
  },
  {
   "cell_type": "code",
   "execution_count": null,
   "metadata": {
    "collapsed": true
   },
   "outputs": [],
   "source": [
    "def plotLineData(header, yLabel, firstData, firstLabel, firstColor='b', xLabel='epoch'):\n",
    "    ''' Plot function '''\n",
    "    \n",
    "    plt.plot(firstData, color=firstColor)\n",
    "    plt.title(header)\n",
    "    plt.ylabel(yLabel)\n",
    "    plt.xlabel(xLabel)\n",
    "    plt.legend([firstLabel], loc='upper right')\n",
    "    plt.savefig(\"loss_test_GRU_loop2_big_hs512_slow.png\")\n",
    "    plt.show()"
   ]
  },
  {
   "cell_type": "markdown",
   "metadata": {},
   "source": [
    "### Main code"
   ]
  },
  {
   "cell_type": "markdown",
   "metadata": {},
   "source": [
    "#### Data Preprocessing and training"
   ]
  },
  {
   "cell_type": "code",
   "execution_count": null,
   "metadata": {
    "collapsed": true
   },
   "outputs": [],
   "source": [
    "# Load configurations\n",
    "config_path = 'config.txt'\n",
    "args = {}\n",
    "args = set_config(config_path, args)"
   ]
  },
  {
   "cell_type": "code",
   "execution_count": null,
   "metadata": {
    "collapsed": true
   },
   "outputs": [],
   "source": [
    "''' Use the whole text to generate char indices map and indices char map '''\n",
    "text = prepare_text('./nietzsche_eng_edit.txt')\n",
    "chars = sorted(list(set(text))) # get all the unique characters appearing in the text \n",
    "char_idx = dict((c, i) for i, c in enumerate(chars))\n",
    "idx_char = dict((i, c) for i, c in enumerate(chars)) \n",
    "no_classes = len(chars) # the nr. of unique characters corresponds to the nr. of classes\n",
    "\n",
    "''' Set further parameter input shape defined as seq_ * nr. of unique characters '''\n",
    "input_shape = (args.seq_len, no_classes) \n",
    "\n",
    "''' Generate train and test loader from our data '''\n",
    "train_text = prepare_text('./nietzsche_eng_train.txt')\n",
    "train_set = TextDataset(train_text, args.seq_len, args.offset, char_idx, idx_char)\n",
    "train_loader = DataLoader(train_set, batch_size = args.batch_size, shuffle=True)\n",
    "\n",
    "test_text = prepare_text('./nietzsche_eng_test.txt')\n",
    "test_set = TextDataset(test_text, args.seq_len, args.offset, char_idx, idx_char)\n",
    "test_loader = DataLoader(test_set, batch_size = args.batch_size, shuffle=True)"
   ]
  },
  {
   "cell_type": "code",
   "execution_count": 31,
   "metadata": {},
   "outputs": [
    {
     "name": "stdout",
     "output_type": "stream",
     "text": [
      "(100, 37)\n",
      "LSTM_RNN(\n",
      "  (lstm): GRU(37, 256, num_layers=2)\n",
      "  (linear): Linear(in_features=256, out_features=37)\n",
      "  (softmax): Softplus(beta=1, threshold=20)\n",
      ")\n"
     ]
    }
   ],
   "source": [
    "# Generate model or reload model (then outcomment the last line in this block)\n",
    "rnn = LSTM_RNN(no_classes)\n",
    "if args.cuda:\n",
    "    rnn.cuda()\n",
    "print(rnn)\n",
    "\n",
    "#rnn = torch.load(\"GRU_loop2_big_hs128-epoch#3.pt\")"
   ]
  },
  {
   "cell_type": "code",
   "execution_count": 34,
   "metadata": {},
   "outputs": [],
   "source": [
    "# Initialize the optimization algorithm\n",
    "optimizer = optim.Adam(rnn.parameters(), lr=0.0004)"
   ]
  },
  {
   "cell_type": "code",
   "execution_count": 35,
   "metadata": {
    "scrolled": true
   },
   "outputs": [
    {
     "name": "stdout",
     "output_type": "stream",
     "text": [
      "512\n",
      "Mean loss over epoch 0: 2.7850882360839844\n",
      "correct: 19650\n",
      "len loader: 125\n",
      "Mean test loss over epoch 0: 2.3821243476867675\n",
      "Accuracy: 0.30703125([30.703124999999996%])\n"
     ]
    },
    {
     "name": "stderr",
     "output_type": "stream",
     "text": [
      "C:\\WinPython\\miniconda2\\lib\\site-packages\\torch\\serialization.py:158: UserWarning: Couldn't retrieve source code for container of type LSTM_RNN. It won't be checked for correctness upon loading.\n",
      "  \"type \" + obj.__name__ + \". It won't be checked \"\n"
     ]
    }
   ],
   "source": [
    "# Run training and store history\n",
    "history = dict()\n",
    "history['loss_train'] = []\n",
    "history['loss_test'] = []\n",
    "history['acc'] = []\n",
    "\n",
    "for epoch in range(10):\n",
    "    loss_train = train(rnn, epoch)\n",
    "    loss_test, accuracy = evaluate(rnn, epoch)\n",
    "    history['loss_train'].append(loss_train)\n",
    "    history['loss_test'].append(loss_test)\n",
    "    history['acc'].append(accuracy)\n",
    "    torch.save(rnn, 'GRU_loop2_big_hs512_slow-epoch#{}.pt'.format(epoch))"
   ]
  },
  {
   "cell_type": "code",
   "execution_count": 22,
   "metadata": {},
   "outputs": [
    {
     "data": {
      "image/png": "[encoded data removed]",
      "text/plain": [
       "<matplotlib.figure.Figure at 0x62b7f60>"
      ]
     },
     "metadata": {},
     "output_type": "display_data"
    }
   ],
   "source": [
    "# Create plots of train loss, test loss and accuracy\n",
    "plotLineData(\"Training loss\", \"loss\", history['loss_train'], \"loss\")\n",
    "plotLineData(\"Test loss\", \"loss\", history['loss_test'], \"loss\")\n",
    "plotLineData(\"Accuracy\", \"acc\", history['acc'], \"acc\")"
   ]
  },
  {
   "cell_type": "markdown",
   "metadata": {},
   "source": [
    "#### Predictions"
   ]
  },
  {
   "cell_type": "code",
   "execution_count": null,
   "metadata": {
    "collapsed": true
   },
   "outputs": [],
   "source": [
    "testcases, test_endings = get_testcases(test_text, seq_lengths = (10,100), offset = 1)"
   ]
  },
  {
   "cell_type": "code",
   "execution_count": 1,
   "metadata": {},
   "outputs": [
    {
     "name": "stdout",
     "output_type": "stream",
     "text": [
      "['t everything that we call higher culture is based upon the spiritualising and intensifying ', 'intevremond who reproached him for ', ' is no doubt these coming ones will be least able to dispense with the serious and not unscr', 'amity might be involved ther', 'rmula of virtue ', 'onsider for ourselves  239 the weaker sex has in no previous age been treated w', 'ose modes of thinking which measure th', ' home old a dragon thence doth roam  noble titl', 't does what all nourishment does that does not merely conserveas the phy', 'ary courage the standingalone', 'ed north pole e', ' him only to suffer with his fellows  223 the hybrid europeana tolerably ugly plebeian taken all in ', 'dinganimal alone attains to honours and di', 'ise woman to defeminize herself in this manner and to imitate all the stupidities from which man in ', 'obliged to find', 's a violation an intentional injuring of the fundamental will of the spirit which instinctive', ' things in the old arrangementsin short growth or more properly the', ' of wisdom but rather as disagreeable fools and dangerous inte', 'ainful delight of tragedy is cruelty that which operates agreeably in socalled tragic sympath', 'hearts he would not easily find therein the inten', 'f disguises it enjoys also its feeling of security thereinit is preci', 'ncts there is stupidity in this movement an almos', 'ng were proved thereby in favour of woman as she is among men these ', 'what food means and she insists on being coo', ' of rank betwee', ' grandfathers in esteem and also at a little distance from us we europeans of the day after ', 'that is a typical sign of shallowmindedness and a thinker ', 'in our very uncertain and consequently very conciliatory cent', 'the will nothing is so adapted to the spirit of t', 'selves and what the spirit that leads us wants to be', ' contemning look the feeling of separation from the multitude with their duti', 'derstanding of its victimsa repeated pro', ' emancipation of woman insofar as it is desired and d', 'rather a condition of every highe', ' back in all directions we o', 'nswer for this diagnosis of the european diseasethe disease of the will is diffused unequally ove', 'upidities fr', 'paniard at the sight of the faggot and ', 'lfdenial in the religious sens', 'tes  226 we immoraliststhis world with which we are concerned in which we have ', 'o other religion is any longer preachedlet the psychologist have his ears open throu', 'ntancespasms to vivisection of conscience and to pascal', 'anifold enjoymen', 'imperious something which is ', 'reference of ignorance of arbitrary shut', 'd blue mocking twilight this aging civilization with ', 'so many generations must have prepared the way for the coming of the philosopher each of his ', 't its service an apparently opposed impulse of the spirit a sudde', 'ave the hard task and for our recreation gladly seek the company of beings under whose hand', ' the wagnerienne who with unhinged will undergoes the performance of tri'] ['of', 'his', 'upulous', 'ein', 'morality', 'ith', 'e', 'e', 'siologist', '', 'xpeditions', 'allabsolutely', 'spenses', 'europe', '', 'ly', '', 'rrogatorshave', 'y', 'tion', 'sely', 't', 'are', 'k', 'n', 'tomorrow', 'who', 'ury', 'he', '', 'es', 'of', 'emanded', 'r', 'urselves', 'r', 'om', 'stake', 'e', 'to', 'gh', 'like', 't', 'popularly', 'ting', 'its', 'virtues', 'nly', 's', 'stan']\n"
     ]
    },
    {
     "ename": "NameError",
     "evalue": "name 'predict_completion' is not defined",
     "output_type": "error",
     "traceback": [
      "\u001b[1;31m---------------------------------------------------------------------------\u001b[0m",
      "\u001b[1;31mNameError\u001b[0m                                 Traceback (most recent call last)",
      "\u001b[1;32m<ipython-input-1-6dc0d331a8b8>\u001b[0m in \u001b[0;36m<module>\u001b[1;34m()\u001b[0m\n\u001b[0;32m      7\u001b[0m \u001b[0mcorrect\u001b[0m \u001b[1;33m=\u001b[0m \u001b[1;36m0\u001b[0m\u001b[1;33m\u001b[0m\u001b[0m\n\u001b[0;32m      8\u001b[0m \u001b[1;32mfor\u001b[0m \u001b[0mi\u001b[0m\u001b[1;33m,\u001b[0m \u001b[0mcase\u001b[0m \u001b[1;32min\u001b[0m \u001b[0menumerate\u001b[0m\u001b[1;33m(\u001b[0m\u001b[0mtestcases\u001b[0m\u001b[1;33m)\u001b[0m\u001b[1;33m:\u001b[0m\u001b[1;33m\u001b[0m\u001b[0m\n\u001b[1;32m----> 9\u001b[1;33m     \u001b[0mcompletion\u001b[0m \u001b[1;33m=\u001b[0m \u001b[0mpredict_completion\u001b[0m\u001b[1;33m(\u001b[0m\u001b[0mrnn\u001b[0m\u001b[1;33m,\u001b[0m \u001b[0mcase\u001b[0m\u001b[1;33m.\u001b[0m\u001b[0mlower\u001b[0m\u001b[1;33m(\u001b[0m\u001b[1;33m)\u001b[0m\u001b[1;33m)\u001b[0m\u001b[1;33m\u001b[0m\u001b[0m\n\u001b[0m\u001b[0;32m     10\u001b[0m     \u001b[0mprint\u001b[0m\u001b[1;33m(\u001b[0m\u001b[0mcompletion\u001b[0m\u001b[1;33m)\u001b[0m\u001b[1;33m\u001b[0m\u001b[0m\n\u001b[0;32m     11\u001b[0m     \u001b[1;31m#print(test_endings[i])\u001b[0m\u001b[1;33m\u001b[0m\u001b[1;33m\u001b[0m\u001b[0m\n",
      "\u001b[1;31mNameError\u001b[0m: name 'predict_completion' is not defined"
     ]
    }
   ],
   "source": [
    "# 17 hits - epoch 3 - hs512\n",
    "testcases, test_endings = ['t everything that we call higher culture is based upon the spiritualising and intensifying ', 'intevremond who reproached him for ', ' is no doubt these coming ones will be least able to dispense with the serious and not unscr', 'amity might be involved ther', 'rmula of virtue ', 'onsider for ourselves  239 the weaker sex has in no previous age been treated w', 'ose modes of thinking which measure th', ' home old a dragon thence doth roam  noble titl', 't does what all nourishment does that does not merely conserveas the phy', 'ary courage the standingalone', 'ed north pole e', ' him only to suffer with his fellows  223 the hybrid europeana tolerably ugly plebeian taken all in ', 'dinganimal alone attains to honours and di', 'ise woman to defeminize herself in this manner and to imitate all the stupidities from which man in ', 'obliged to find', 's a violation an intentional injuring of the fundamental will of the spirit which instinctive', ' things in the old arrangementsin short growth or more properly the', ' of wisdom but rather as disagreeable fools and dangerous inte', 'ainful delight of tragedy is cruelty that which operates agreeably in socalled tragic sympath', 'hearts he would not easily find therein the inten', 'f disguises it enjoys also its feeling of security thereinit is preci', 'ncts there is stupidity in this movement an almos', 'ng were proved thereby in favour of woman as she is among men these ', 'what food means and she insists on being coo', ' of rank betwee', ' grandfathers in esteem and also at a little distance from us we europeans of the day after ', 'that is a typical sign of shallowmindedness and a thinker ', 'in our very uncertain and consequently very conciliatory cent', 'the will nothing is so adapted to the spirit of t', 'selves and what the spirit that leads us wants to be', ' contemning look the feeling of separation from the multitude with their duti', 'derstanding of its victimsa repeated pro', ' emancipation of woman insofar as it is desired and d', 'rather a condition of every highe', ' back in all directions we o', 'nswer for this diagnosis of the european diseasethe disease of the will is diffused unequally ove', 'upidities fr', 'paniard at the sight of the faggot and ', 'lfdenial in the religious sens', 'tes  226 we immoraliststhis world with which we are concerned in which we have ', 'o other religion is any longer preachedlet the psychologist have his ears open throu', 'ntancespasms to vivisection of conscience and to pascal', 'anifold enjoymen', 'imperious something which is ', 'reference of ignorance of arbitrary shut', 'd blue mocking twilight this aging civilization with ', 'so many generations must have prepared the way for the coming of the philosopher each of his ', 't its service an apparently opposed impulse of the spirit a sudde', 'ave the hard task and for our recreation gladly seek the company of beings under whose hand', ' the wagnerienne who with unhinged will undergoes the performance of '\n",
    "                                                                                                                                                                                                                                                                                                                                                                                                                                                                                                                                                                                                                                                                                                                                                                                                                                                                                                                                                                                                                                                  'tri'], ['of', 'his', 'upulous', 'ein', 'morality', 'ith', 'e', 'e', 'siologist', '', 'xpeditions', 'allabsolutely', 'spenses', 'europe', '', 'ly', '', 'rrogatorshave', 'y', 'tion', 'sely', 't', 'are', 'k', 'n', 'tomorrow', 'who', 'ury', 'he', '', 'es', 'of', 'emanded', 'r', 'urselves', 'r', 'om', 'stake', 'e', 'to', 'gh', 'like', 't', 'popularly', 'ting', 'its', 'virtues', 'nly', 's', 'stan']\n",
    "correct = 0\n",
    "for i, case in enumerate(testcases):\n",
    "    completion = predict_completion(rnn, case.lower())\n",
    "    print(completion)\n",
    "    if completion == test_endings[i]:\n",
    "        correct += 1\n",
    "        print(\"correct!\")\n",
    "        \n",
    "print('correct: {}'.format(correct))"
   ]
  },
  {
   "cell_type": "code",
   "execution_count": 91,
   "metadata": {},
   "outputs": [
    {
     "name": "stdout",
     "output_type": "stream",
     "text": [
      "['t everything that we call higher culture is based upon the spiritualising and intensifying ', 'intevremond who reproached him for ', ' is no doubt these coming ones will be least able to dispense with the serious and not unscr', 'amity might be involved ther', 'rmula of virtue ', 'onsider for ourselves  239 the weaker sex has in no previous age been treated w', 'ose modes of thinking which measure th', ' home old a dragon thence doth roam  noble titl', 't does what all nourishment does that does not merely conserveas the phy', 'ary courage the standingalone', 'ed north pole e', ' him only to suffer with his fellows  223 the hybrid europeana tolerably ugly plebeian taken all in ', 'dinganimal alone attains to honours and di', 'ise woman to defeminize herself in this manner and to imitate all the stupidities from which man in ', 'obliged to find', 's a violation an intentional injuring of the fundamental will of the spirit which instinctive', ' things in the old arrangementsin short growth or more properly the', ' of wisdom but rather as disagreeable fools and dangerous inte', 'ainful delight of tragedy is cruelty that which operates agreeably in socalled tragic sympath', 'hearts he would not easily find therein the inten', 'f disguises it enjoys also its feeling of security thereinit is preci', 'ncts there is stupidity in this movement an almos', 'ng were proved thereby in favour of woman as she is among men these ', 'what food means and she insists on being coo', ' of rank betwee', ' grandfathers in esteem and also at a little distance from us we europeans of the day after ', 'that is a typical sign of shallowmindedness and a thinker ', 'in our very uncertain and consequently very conciliatory cent', 'the will nothing is so adapted to the spirit of t', 'selves and what the spirit that leads us wants to be', ' contemning look the feeling of separation from the multitude with their duti', 'derstanding of its victimsa repeated pro', ' emancipation of woman insofar as it is desired and d', 'rather a condition of every highe', ' back in all directions we o', 'nswer for this diagnosis of the european diseasethe disease of the will is diffused unequally ove', 'upidities fr', 'paniard at the sight of the faggot and ', 'lfdenial in the religious sens', 'tes  226 we immoraliststhis world with which we are concerned in which we have ', 'o other religion is any longer preachedlet the psychologist have his ears open throu', 'ntancespasms to vivisection of conscience and to pascal', 'anifold enjoymen', 'imperious something which is ', 'reference of ignorance of arbitrary shut', 'd blue mocking twilight this aging civilization with ', 'so many generations must have prepared the way for the coming of the philosopher each of his ', 't its service an apparently opposed impulse of the spirit a sudde', 'ave the hard task and for our recreation gladly seek the company of beings under whose hand', ' the wagnerienne who with unhinged will undergoes the performance of tri'] ['of', 'his', 'upulous', 'ein', 'morality', 'ith', 'e', 'e', 'siologist', '', 'xpeditions', 'allabsolutely', 'spenses', 'europe', '', 'ly', '', 'rrogatorshave', 'y', 'tion', 'sely', 't', 'are', 'k', 'n', 'tomorrow', 'who', 'ury', 'he', '', 'es', 'of', 'emanded', 'r', 'urselves', 'r', 'om', 'stake', 'e', 'to', 'gh', 'like', 't', 'popularly', 'ting', 'its', 'virtues', 'nly', 's', 'stan']\n",
      "but\n",
      "its\n",
      "eatess\n",
      "efore\n",
      "seem\n",
      "ith\n",
      "correct!\n",
      "at\n",
      "edgen\n",
      "siological\n",
      "ss\n",
      "ven\n",
      "the\n",
      "scourady\n",
      "the\n",
      "\n",
      "correct!\n",
      "ly\n",
      "correct!\n",
      "\n",
      "correct!\n",
      "rpretation\n",
      "y\n",
      "correct!\n",
      "tively\n",
      "sely\n",
      "correct!\n",
      "t\n",
      "correct!\n",
      "power\n",
      "ul\n",
      "n\n",
      "correct!\n",
      "and\n",
      "it\n",
      "ument\n",
      "he\n",
      "correct!\n",
      "\n",
      "correct!\n",
      "on\n",
      "blem\n",
      "omain\n",
      "r\n",
      "correct!\n",
      "ne\n",
      "r\n",
      "correct!\n",
      "om\n",
      "correct!\n",
      "about\n",
      "es\n",
      "a\n",
      "ght\n",
      "e\n",
      "t\n",
      "correct!\n",
      "to\n",
      "h\n",
      "a\n",
      "accemption\n",
      "nt\n",
      "\n",
      "en\n",
      "correct: 14\n"
     ]
    }
   ],
   "source": [
    "# 14 hits - epoch 9 - hs512\n",
    "\n",
    "correct = 0\n",
    "for i, case in enumerate(testcases):\n",
    "    completion = predict_completion(rnn, case.lower())\n",
    "    print(completion)\n",
    "    if completion == test_endings[i]:\n",
    "        correct += 1\n",
    "        print(\"correct!\")\n",
    "        \n",
    "print('correct: {}'.format(correct))"
   ]
  },
  {
   "cell_type": "code",
   "execution_count": 48,
   "metadata": {},
   "outputs": [
    {
     "name": "stdout",
     "output_type": "stream",
     "text": [
      "m in the superstitional or ideas of plato has been\n",
      " with the senses that the conception of the will t\n",
      " on the most serious as a principulations and as a\n",
      " and about the artifies of all the german taste at\n",
      " of the will to truth in the philosopher thing tha\n",
      " of which the conception of its own it has have be\n",
      " in the sense conscisestlactive it is a moral self\n",
      " of any with a colrate consequently of manner a pr\n",
      " conception of its own it has have been synted how\n",
      " comed it were the same time the superstition and \n",
      " as platonism the may reality doem and the most se\n"
     ]
    }
   ],
   "source": [
    "# bigset hs512 - epoch9\n",
    "testcases = [\"Paralysis\", \"spirituality\", \"justice\", \"expedition\", \"responsibility\",\n",
    "             \"freedom\", \"power\", \"virtues\", \"BELIEVE\",\n",
    "             \"psychologist\", \"intelligence\"]\n",
    "for case in testcases:\n",
    "    print(predict_completion(rnn, case.lower(), max_iterations=50, stop_on_space=False))"
   ]
  },
  {
   "cell_type": "code",
   "execution_count": 93,
   "metadata": {},
   "outputs": [
    {
     "name": "stdout",
     "output_type": "stream",
     "text": [
      "['t everything that we call higher culture is based upon the spiritualising and intensifying ', 'intevremond who reproached him for ', ' is no doubt these coming ones will be least able to dispense with the serious and not unscr', 'amity might be involved ther', 'rmula of virtue ', 'onsider for ourselves  239 the weaker sex has in no previous age been treated w', 'ose modes of thinking which measure th', ' home old a dragon thence doth roam  noble titl', 't does what all nourishment does that does not merely conserveas the phy', 'ary courage the standingalone', 'ed north pole e', ' him only to suffer with his fellows  223 the hybrid europeana tolerably ugly plebeian taken all in ', 'dinganimal alone attains to honours and di', 'ise woman to defeminize herself in this manner and to imitate all the stupidities from which man in ', 'obliged to find', 's a violation an intentional injuring of the fundamental will of the spirit which instinctive', ' things in the old arrangementsin short growth or more properly the', ' of wisdom but rather as disagreeable fools and dangerous inte', 'ainful delight of tragedy is cruelty that which operates agreeably in socalled tragic sympath', 'hearts he would not easily find therein the inten', 'f disguises it enjoys also its feeling of security thereinit is preci', 'ncts there is stupidity in this movement an almos', 'ng were proved thereby in favour of woman as she is among men these ', 'what food means and she insists on being coo', ' of rank betwee', ' grandfathers in esteem and also at a little distance from us we europeans of the day after ', 'that is a typical sign of shallowmindedness and a thinker ', 'in our very uncertain and consequently very conciliatory cent', 'the will nothing is so adapted to the spirit of t', 'selves and what the spirit that leads us wants to be', ' contemning look the feeling of separation from the multitude with their duti', 'derstanding of its victimsa repeated pro', ' emancipation of woman insofar as it is desired and d', 'rather a condition of every highe', ' back in all directions we o', 'nswer for this diagnosis of the european diseasethe disease of the will is diffused unequally ove', 'upidities fr', 'paniard at the sight of the faggot and ', 'lfdenial in the religious sens', 'tes  226 we immoraliststhis world with which we are concerned in which we have ', 'o other religion is any longer preachedlet the psychologist have his ears open throu', 'ntancespasms to vivisection of conscience and to pascal', 'anifold enjoymen', 'imperious something which is ', 'reference of ignorance of arbitrary shut', 'd blue mocking twilight this aging civilization with ', 'so many generations must have prepared the way for the coming of the philosopher each of his ', 't its service an apparently opposed impulse of the spirit a sudde', 'ave the hard task and for our recreation gladly seek the company of beings under whose hand', ' the wagnerienne who with unhinged will undergoes the performance of tri'] ['of', 'his', 'upulous', 'ein', 'morality', 'ith', 'e', 'e', 'siologist', '', 'xpeditions', 'allabsolutely', 'spenses', 'europe', '', 'ly', '', 'rrogatorshave', 'y', 'tion', 'sely', 't', 'are', 'k', 'n', 'tomorrow', 'who', 'ury', 'he', '', 'es', 'of', 'emanded', 'r', 'urselves', 'r', 'om', 'stake', 'e', 'to', 'gh', 'like', 't', 'popularly', 'ting', 'its', 'virtues', 'nly', 's', 'stan']\n",
      "the\n",
      "the\n",
      "eates\n",
      "e\n",
      "and\n",
      "ith\n",
      "correct!\n",
      "e\n",
      "correct!\n",
      "ed\n",
      "siological\n",
      "\n",
      "correct!\n",
      "ven\n",
      "the\n",
      "strust\n",
      "the\n",
      "\n",
      "correct!\n",
      "\n",
      "\n",
      "correct!\n",
      "rpretation\n",
      "y\n",
      "correct!\n",
      "tion\n",
      "correct!\n",
      "sely\n",
      "correct!\n",
      "t\n",
      "correct!\n",
      "precestion\n",
      "ure\n",
      "n\n",
      "correct!\n",
      "the\n",
      "and\n",
      "istion\n",
      "he\n",
      "correct!\n",
      "\n",
      "correct!\n",
      "on\n",
      "founder\n",
      "eception\n",
      "r\n",
      "correct!\n",
      "ne\n",
      "r\n",
      "correct!\n",
      "om\n",
      "correct!\n",
      "the\n",
      "es\n",
      "a\n",
      "gh\n",
      "correct!\n",
      "uation\n",
      "t\n",
      "correct!\n",
      "the\n",
      "h\n",
      "the\n",
      "perhaps\n",
      "rs\n",
      "\n",
      "t\n",
      "correct: 17\n"
     ]
    }
   ],
   "source": [
    "# 17 hits - epoch 3 - hs128\n",
    "print(testcases, test_endings)\n",
    "correct = 0\n",
    "for i, case in enumerate(testcases):\n",
    "    completion = predict_completion(rnn, case.lower())\n",
    "    print(completion)\n",
    "    if completion == test_endings[i]:\n",
    "        correct += 1\n",
    "        print(\"correct!\")\n",
    "        \n",
    "print('correct: {}'.format(correct))"
   ]
  },
  {
   "cell_type": "code",
   "execution_count": 91,
   "metadata": {},
   "outputs": [
    {
     "name": "stdout",
     "output_type": "stream",
     "text": [
      "['t everything that we call higher culture is based upon the spiritualising and intensifying ', 'intevremond who reproached him for ', ' is no doubt these coming ones will be least able to dispense with the serious and not unscr', 'amity might be involved ther', 'rmula of virtue ', 'onsider for ourselves  239 the weaker sex has in no previous age been treated w', 'ose modes of thinking which measure th', ' home old a dragon thence doth roam  noble titl', 't does what all nourishment does that does not merely conserveas the phy', 'ary courage the standingalone', 'ed north pole e', ' him only to suffer with his fellows  223 the hybrid europeana tolerably ugly plebeian taken all in ', 'dinganimal alone attains to honours and di', 'ise woman to defeminize herself in this manner and to imitate all the stupidities from which man in ', 'obliged to find', 's a violation an intentional injuring of the fundamental will of the spirit which instinctive', ' things in the old arrangementsin short growth or more properly the', ' of wisdom but rather as disagreeable fools and dangerous inte', 'ainful delight of tragedy is cruelty that which operates agreeably in socalled tragic sympath', 'hearts he would not easily find therein the inten', 'f disguises it enjoys also its feeling of security thereinit is preci', 'ncts there is stupidity in this movement an almos', 'ng were proved thereby in favour of woman as she is among men these ', 'what food means and she insists on being coo', ' of rank betwee', ' grandfathers in esteem and also at a little distance from us we europeans of the day after ', 'that is a typical sign of shallowmindedness and a thinker ', 'in our very uncertain and consequently very conciliatory cent', 'the will nothing is so adapted to the spirit of t', 'selves and what the spirit that leads us wants to be', ' contemning look the feeling of separation from the multitude with their duti', 'derstanding of its victimsa repeated pro', ' emancipation of woman insofar as it is desired and d', 'rather a condition of every highe', ' back in all directions we o', 'nswer for this diagnosis of the european diseasethe disease of the will is diffused unequally ove', 'upidities fr', 'paniard at the sight of the faggot and ', 'lfdenial in the religious sens', 'tes  226 we immoraliststhis world with which we are concerned in which we have ', 'o other religion is any longer preachedlet the psychologist have his ears open throu', 'ntancespasms to vivisection of conscience and to pascal', 'anifold enjoymen', 'imperious something which is ', 'reference of ignorance of arbitrary shut', 'd blue mocking twilight this aging civilization with ', 'so many generations must have prepared the way for the coming of the philosopher each of his ', 't its service an apparently opposed impulse of the spirit a sudde', 'ave the hard task and for our recreation gladly seek the company of beings under whose hand', ' the wagnerienne who with unhinged will undergoes the performance of tri'] ['of', 'his', 'upulous', 'ein', 'morality', 'ith', 'e', 'e', 'siologist', '', 'xpeditions', 'allabsolutely', 'spenses', 'europe', '', 'ly', '', 'rrogatorshave', 'y', 'tion', 'sely', 't', 'are', 'k', 'n', 'tomorrow', 'who', 'ury', 'he', '', 'es', 'of', 'emanded', 'r', 'urselves', 'r', 'om', 'stake', 'e', 'to', 'gh', 'like', 't', 'popularly', 'ting', 'its', 'virtues', 'nly', 's', 'stan']\n",
      "but\n",
      "its\n",
      "eatess\n",
      "efore\n",
      "seem\n",
      "ith\n",
      "correct!\n",
      "at\n",
      "edgen\n",
      "siological\n",
      "ss\n",
      "ven\n",
      "the\n",
      "scourady\n",
      "the\n",
      "\n",
      "correct!\n",
      "ly\n",
      "correct!\n",
      "\n",
      "correct!\n",
      "rpretation\n",
      "y\n",
      "correct!\n",
      "tively\n",
      "sely\n",
      "correct!\n",
      "t\n",
      "correct!\n",
      "power\n",
      "ul\n",
      "n\n",
      "correct!\n",
      "and\n",
      "it\n",
      "ument\n",
      "he\n",
      "correct!\n",
      "\n",
      "correct!\n",
      "on\n",
      "blem\n",
      "omain\n",
      "r\n",
      "correct!\n",
      "ne\n",
      "r\n",
      "correct!\n",
      "om\n",
      "correct!\n",
      "about\n",
      "es\n",
      "a\n",
      "ght\n",
      "e\n",
      "t\n",
      "correct!\n",
      "to\n",
      "h\n",
      "a\n",
      "accemption\n",
      "nt\n",
      "\n",
      "en\n",
      "correct: 14\n"
     ]
    }
   ],
   "source": [
    "# 14 hits - epoch 9 - hs128\n",
    "print(testcases, test_endings)\n",
    "correct = 0\n",
    "for i, case in enumerate(testcases):\n",
    "    completion = predict_completion(rnn, case.lower())\n",
    "    print(completion)\n",
    "    if completion == test_endings[i]:\n",
    "        correct += 1\n",
    "        print(\"correct!\")\n",
    "        \n",
    "print('correct: {}'.format(correct))"
   ]
  },
  {
   "cell_type": "code",
   "execution_count": 48,
   "metadata": {},
   "outputs": [
    {
     "name": "stdout",
     "output_type": "stream",
     "text": [
      "m in the superstitional or ideas of plato has been\n",
      " with the senses that the conception of the will t\n",
      " on the most serious as a principulations and as a\n",
      " and about the artifies of all the german taste at\n",
      " of the will to truth in the philosopher thing tha\n",
      " of which the conception of its own it has have be\n",
      " in the sense conscisestlactive it is a moral self\n",
      " of any with a colrate consequently of manner a pr\n",
      " conception of its own it has have been synted how\n",
      " comed it were the same time the superstition and \n",
      " as platonism the may reality doem and the most se\n"
     ]
    }
   ],
   "source": [
    "# bigset hs128 - epoch9\n",
    "testcases = [\"Paralysis\", \"spirituality\", \"justice\", \"expedition\", \"responsibility\",\n",
    "             \"freedom\", \"power\", \"virtues\", \"BELIEVE\",\n",
    "             \"psychologist\", \"intelligence\"]\n",
    "for case in testcases:\n",
    "    print(predict_completion(rnn, case.lower(), max_iterations=50, stop_on_space=False))"
   ]
  },
  {
   "cell_type": "code",
   "execution_count": 38,
   "metadata": {},
   "outputs": [
    {
     "name": "stdout",
     "output_type": "stream",
     "text": [
      "anden \n",
      "h \n",
      "an \n",
      "ten \n",
      "m \n",
      "erde \n",
      "r \n",
      "ische \n",
      "en \n",
      "en \n",
      "te \n"
     ]
    }
   ],
   "source": [
    "# 40 chars\n",
    "testcases = [\"rfolge kleiner Eruptionen in heftige Bew\", \"während die historische zahnradbahn sic\", \n",
    "             \"hrend die historische zahnradbahn sich m\", \"nd die historische zahnradbahn sich mühs\", \n",
    "             \"e historische zahnradbahn sich mühsam ih\", \"torische zahnradbahn sich mühsam ihren w\", \n",
    "             \"che zahnradbahn sich mühsam ihren weg de\", \"hnradbahn sich mühsam ihren weg den schw\", \n",
    "             \"n sich mühsam ihren weg den schwindelerr\", \"am ihren weg den schwindelerregend steil\",\n",
    "             \"hwindelerregend steilen hang hinaufkrall\"]\n",
    "for case in testcases:\n",
    "    print(predict_completion(rnn, case.lower()))"
   ]
  },
  {
   "cell_type": "code",
   "execution_count": 37,
   "metadata": {},
   "outputs": [
    {
     "ename": "KeyError",
     "evalue": "'ü'",
     "output_type": "error",
     "traceback": [
      "\u001b[1;31m---------------------------------------------------------------------------\u001b[0m",
      "\u001b[1;31mKeyError\u001b[0m                                  Traceback (most recent call last)",
      "\u001b[1;32m<ipython-input-37-e6cb98629866>\u001b[0m in \u001b[0;36m<module>\u001b[1;34m()\u001b[0m\n\u001b[0;32m      7\u001b[0m              \"den des Wetters und der Geschi\"]\n\u001b[0;32m      8\u001b[0m \u001b[1;32mfor\u001b[0m \u001b[0mcase\u001b[0m \u001b[1;32min\u001b[0m \u001b[0mtestcases\u001b[0m\u001b[1;33m:\u001b[0m\u001b[1;33m\u001b[0m\u001b[0m\n\u001b[1;32m----> 9\u001b[1;33m     \u001b[0mprint\u001b[0m\u001b[1;33m(\u001b[0m\u001b[0mpredict_completion\u001b[0m\u001b[1;33m(\u001b[0m\u001b[0mrnn\u001b[0m\u001b[1;33m,\u001b[0m \u001b[0mcase\u001b[0m\u001b[1;33m.\u001b[0m\u001b[0mlower\u001b[0m\u001b[1;33m(\u001b[0m\u001b[1;33m)\u001b[0m\u001b[1;33m)\u001b[0m\u001b[1;33m)\u001b[0m\u001b[1;33m\u001b[0m\u001b[0m\n\u001b[0m",
      "\u001b[1;32m<ipython-input-21-bf4620dcfb3f>\u001b[0m in \u001b[0;36mpredict_completion\u001b[1;34m(model, text, topn, max_iterations, stop_on_space)\u001b[0m\n\u001b[0;32m     37\u001b[0m     \u001b[1;32mwhile\u001b[0m \u001b[0mnext_char\u001b[0m \u001b[1;33m!=\u001b[0m \u001b[1;34m' '\u001b[0m \u001b[1;32mand\u001b[0m \u001b[0mi\u001b[0m \u001b[1;33m<\u001b[0m \u001b[0mmax_iterations\u001b[0m\u001b[1;33m:\u001b[0m\u001b[1;33m\u001b[0m\u001b[0m\n\u001b[0;32m     38\u001b[0m         \u001b[0mi\u001b[0m \u001b[1;33m+=\u001b[0m \u001b[1;36m1\u001b[0m\u001b[1;33m\u001b[0m\u001b[0m\n\u001b[1;32m---> 39\u001b[1;33m         \u001b[0mx\u001b[0m \u001b[1;33m=\u001b[0m \u001b[0mprepare_input\u001b[0m\u001b[1;33m(\u001b[0m\u001b[0mtext\u001b[0m\u001b[1;33m)\u001b[0m\u001b[1;33m\u001b[0m\u001b[0m\n\u001b[0m\u001b[0;32m     40\u001b[0m         \u001b[0mpreds\u001b[0m \u001b[1;33m=\u001b[0m \u001b[0mrnn_predict\u001b[0m\u001b[1;33m(\u001b[0m\u001b[0mmodel\u001b[0m\u001b[1;33m,\u001b[0m \u001b[0mx\u001b[0m\u001b[1;33m)\u001b[0m\u001b[1;33m\u001b[0m\u001b[0m\n\u001b[0;32m     41\u001b[0m         \u001b[0mnext_chars\u001b[0m \u001b[1;33m=\u001b[0m \u001b[0msample\u001b[0m\u001b[1;33m(\u001b[0m\u001b[0mpreds\u001b[0m\u001b[1;33m[\u001b[0m\u001b[1;36m0\u001b[0m\u001b[1;33m]\u001b[0m\u001b[1;33m,\u001b[0m \u001b[0mtop_n\u001b[0m\u001b[1;33m=\u001b[0m\u001b[0mtopn\u001b[0m\u001b[1;33m)\u001b[0m\u001b[1;33m\u001b[0m\u001b[0m\n",
      "\u001b[1;32m<ipython-input-21-bf4620dcfb3f>\u001b[0m in \u001b[0;36mprepare_input\u001b[1;34m(text)\u001b[0m\n\u001b[0;32m     12\u001b[0m     \u001b[0mX\u001b[0m \u001b[1;33m=\u001b[0m \u001b[0mnp\u001b[0m\u001b[1;33m.\u001b[0m\u001b[0mzeros\u001b[0m\u001b[1;33m(\u001b[0m\u001b[1;33m(\u001b[0m\u001b[0mlen\u001b[0m\u001b[1;33m(\u001b[0m\u001b[0mtext\u001b[0m\u001b[1;33m)\u001b[0m\u001b[1;33m,\u001b[0m \u001b[0mno_classes\u001b[0m\u001b[1;33m)\u001b[0m\u001b[1;33m)\u001b[0m  \u001b[1;31m# array with one entry which have 20 lines, each 11 entrys\u001b[0m\u001b[1;33m\u001b[0m\u001b[0m\n\u001b[0;32m     13\u001b[0m     \u001b[1;32mfor\u001b[0m \u001b[0mt\u001b[0m\u001b[1;33m,\u001b[0m \u001b[0mchar\u001b[0m \u001b[1;32min\u001b[0m \u001b[0menumerate\u001b[0m\u001b[1;33m(\u001b[0m\u001b[0mtext\u001b[0m\u001b[1;33m)\u001b[0m\u001b[1;33m:\u001b[0m\u001b[1;33m\u001b[0m\u001b[0m\n\u001b[1;32m---> 14\u001b[1;33m         \u001b[0mX\u001b[0m\u001b[1;33m[\u001b[0m\u001b[0mt\u001b[0m\u001b[1;33m,\u001b[0m \u001b[0mchar_idx\u001b[0m\u001b[1;33m[\u001b[0m\u001b[0mchar\u001b[0m\u001b[1;33m]\u001b[0m\u001b[1;33m]\u001b[0m \u001b[1;33m=\u001b[0m \u001b[1;36m1.\u001b[0m\u001b[1;33m\u001b[0m\u001b[0m\n\u001b[0m\u001b[0;32m     15\u001b[0m     \u001b[1;32mreturn\u001b[0m \u001b[0mX\u001b[0m\u001b[1;33m\u001b[0m\u001b[0m\n\u001b[0;32m     16\u001b[0m \u001b[1;33m\u001b[0m\u001b[0m\n",
      "\u001b[1;31mKeyError\u001b[0m: 'ü'"
     ]
    }
   ],
   "source": [
    "# 30 chars\n",
    "testcases = [\"mühsam ihren Weg den schwindel\", \"hen Außenhaut der reptilienart\", \n",
    "             \"chien das weitläufige Klosterg\", \" flanke einer senkrecht aufrag\", \n",
    "             \"irsch auf die gezackten bergsp\", \"ebaut in die flanke einer senk\", \n",
    "             \"in den bergen und andere unbil\", \"hner vor der modernen welt abz\", \n",
    "             \"egend steilen Hang hinaufkrall\", \"uf magische Weise von der fels\",\n",
    "             \"den des Wetters und der Geschi\"]\n",
    "for case in testcases:\n",
    "    print(predict_completion(rnn, case.lower()))"
   ]
  },
  {
   "cell_type": "code",
   "execution_count": 127,
   "metadata": {},
   "outputs": [
    {
     "name": "stdout",
     "output_type": "stream",
     "text": [
      "che \n",
      "der \n",
      "ng \n",
      "ers \n",
      "uben \n",
      "itlen \n",
      "uschoften \n",
      "uschoften \n"
     ]
    }
   ],
   "source": [
    "# 20 chars\n",
    "testcases = [\"Während die historis\", \"ihren Weg den schwin\", \n",
    "             \"iner senkrecht aufra\", \"re Unbilden des Wett\", \n",
    "             \"eilen Hang hinaufkra\", \"die gezackten Bergsp\", \n",
    "             \"ichen Bestimmung abz\", \"er modernen Welt abz\"]\n",
    "for case in testcases:\n",
    "    print(predict_completion(rnn, case.lower()))"
   ]
  },
  {
   "cell_type": "code",
   "execution_count": 55,
   "metadata": {},
   "outputs": [
    {
     "name": "stdout",
     "output_type": "stream",
     "text": [
      "cher \n",
      "eider \n",
      "n \n",
      "t \n",
      "er \n",
      "f \n",
      "n \n",
      "ukormatige\n",
      "uschotten \n"
     ]
    }
   ],
   "source": [
    "# words\n",
    "testcases = [\"historis\", \"schw\", \"Garte\", \"senkrech\", \"Wett\",\n",
    "             \"hinau\", \"die gezackte\", \n",
    "             \"abz\", \"er modernen Welt abz\"]\n",
    "for case in testcases:\n",
    "    print(predict_completion(rnn, case.lower()))"
   ]
  },
  {
   "cell_type": "code",
   "execution_count": 54,
   "metadata": {},
   "outputs": [
    {
     "name": "stdout",
     "output_type": "stream",
     "text": [
      "cher konneren werden  der bischof stieß der einfüh\n",
      "den dass sie sich den blickte kirsch eine auf das \n",
      "en auf dem bischof valdespino ihr bewasst die auf \n",
      "t aufgesommen dass sie schweiden alte liebens der \n",
      " aus den blickte kirsch eine auf das gelächert hab\n",
      "uf ans zu seinen weiter aus aus aus aus aus aus au\n",
      "n sie sich dann sich der eingeschüchtert als er di\n",
      "lich dar  eine gemaue gebeten  aus praar auf dem b\n",
      "en in den blickte kirsch eine auf das gelächert ha\n",
      "n dass sie schweiden aller welt er seine beiden kl\n",
      "uschotten das werte die schwellen  der bischof in \n"
     ]
    }
   ],
   "source": [
    "# hs512\n",
    "# generate text\n",
    "testcases = [\"historis\", \"schwer\", \"Prophet\", \"senkrech\", \"Wetter\",\n",
    "             \"hina\", \"die gezackte\", \"ursprüng\", \"kolleg\",\n",
    "             \"abzukomme\", \"er modernen Welt abz\"]\n",
    "for case in testcases:\n",
    "    print(predict_completion(rnn, case.lower(), max_iterations=50, stop_on_space=False))"
   ]
  },
  {
   "cell_type": "code",
   "execution_count": 70,
   "metadata": {},
   "outputs": [
    {
     "name": "stdout",
     "output_type": "stream",
     "text": [
      "che mopf die gesagte der bischof anter auf der bes\n",
      "sch eine mochte kirsch eine mochte kirsch eine moc\n",
      "e ich der besteren des wissen die sie seine mochte\n",
      "en welte die ein seinen besuchsten mellte die ein \n",
      " ihr habe die gesagte die gesagte die gesagte die \n",
      "lle fürde er der bergesch einer gewarden besihm li\n",
      " die gesagte ihn haben wie die gesagte ihn haben w\n",
      "licht weise er den besten der bischof anter auf de\n",
      "en in der bester der bester der bester der bester \n",
      "n sie hatten wie sie haben der bischof sich den be\n",
      "u kirsch ein seine meinen weiter auf der klang ein\n"
     ]
    }
   ],
   "source": [
    "# hs64\n",
    "testcases = [\"historis\", \"schwer\", \"Prophet\", \"senkrech\", \"Wetter\",\n",
    "             \"hina\", \"die gezackte\", \"ursprüng\", \"kolleg\",\n",
    "             \"abzukomme\", \"er modernen Welt abz\"]\n",
    "for case in testcases:\n",
    "    print(predict_completion(rnn, case.lower(), max_iterations=50, stop_on_space=False))"
   ]
  },
  {
   "cell_type": "code",
   "execution_count": 44,
   "metadata": {},
   "outputs": [
    {
     "name": "stdout",
     "output_type": "stream",
     "text": [
      "eiter \n"
     ]
    }
   ],
   "source": [
    "testcases = [\"Uhrw\"]\n",
    "for case in testcases:\n",
    "    print(predict_completion(rnn, case.lower()))"
   ]
  }
 ],
 "metadata": {
  "anaconda-cloud": {},
  "kernelspec": {
   "display_name": "Python 3",
   "language": "python",
   "name": "python3"
  },
  "language_info": {
   "codemirror_mode": {
    "name": "ipython",
    "version": 3
   },
   "file_extension": ".py",
   "mimetype": "text/x-python",
   "name": "python",
   "nbconvert_exporter": "python",
   "pygments_lexer": "ipython3",
   "version": "3.6.1"
  }
 },
 "nbformat": 4,
 "nbformat_minor": 2
}
